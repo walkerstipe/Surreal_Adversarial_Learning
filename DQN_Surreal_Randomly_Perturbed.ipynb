{
  "nbformat": 4,
  "nbformat_minor": 0,
  "metadata": {
    "colab": {
      "name": "DQN_Surreal_Randomly_Purturbed.ipynb",
      "provenance": [],
      "collapsed_sections": [],
      "include_colab_link": true
    },
    "kernelspec": {
      "display_name": "Python [conda env:gdg_denver] *",
      "language": "python",
      "name": "conda-env-gdg_denver-py"
    },
    "language_info": {
      "codemirror_mode": {
        "name": "ipython",
        "version": 3
      },
      "file_extension": ".py",
      "mimetype": "text/x-python",
      "name": "python",
      "nbconvert_exporter": "python",
      "pygments_lexer": "ipython3",
      "version": "3.6.9"
    }
  },
  "cells": [
    {
      "cell_type": "markdown",
      "metadata": {
        "id": "view-in-github",
        "colab_type": "text"
      },
      "source": [
        "<a href=\"https://colab.research.google.com/github/walkerstipe/Surreal_Adversarial_Learning/blob/main/DQN_Surreal_Randomly_Perturbed.ipynb\" target=\"_parent\"><img src=\"https://colab.research.google.com/assets/colab-badge.svg\" alt=\"Open In Colab\"/></a>"
      ]
    },
    {
      "cell_type": "markdown",
      "metadata": {
        "id": "O0QXrblNnoxJ"
      },
      "source": [
        "# Deep Q-Network"
      ]
    },
    {
      "cell_type": "markdown",
      "metadata": {
        "id": "mGWIMv2xnoxL"
      },
      "source": [
        "In 2015, Google DeepMind ([Link](https://deepmind.com/research/dqn/)) published a paper in Nature magazine that combines a deep convolution neural network with reinforcement learning for the first time in order to master a range of Atari 2600 games. They used only the raw pixels and score as the inputs. They were able to use the convolution layer to translate the pixels.  \n",
        "\n",
        "The very simple description is that they replaced the Q table in a Q-Learner with a neural network. This allowed them to take advantage of neural networks but still use reinforcement learning. "
      ]
    },
    {
      "cell_type": "code",
      "metadata": {
        "colab": {
          "base_uri": "https://localhost:8080/"
        },
        "id": "NkuYw-SAnoxM",
        "outputId": "3fe30b1e-333b-4def-a155-f3969728e019"
      },
      "source": [
        "#Imports\n",
        "import gym\n",
        "import numpy as np\n",
        "import matplotlib.pyplot as plt\n",
        "from collections import deque\n",
        "import tensorflow as tf\n",
        "from tensorflow import keras\n",
        "#from keras.models import Sequential\n",
        "#from keras.layers import Dense\n",
        "#from keras.optimizers import Adam\n",
        "import random\n",
        "\n",
        "#Create Gym\n",
        "from gym import wrappers\n",
        "envCartPole = gym.make('CartPole-v1')\n",
        "envCartPole.seed(50) #Set the seed to keep the environment consistent across runs"
      ],
      "execution_count": null,
      "outputs": [
        {
          "output_type": "execute_result",
          "data": {
            "text/plain": [
              "[50]"
            ]
          },
          "metadata": {
            "tags": []
          },
          "execution_count": 17
        }
      ]
    },
    {
      "cell_type": "markdown",
      "metadata": {
        "id": "kcyNeXrBnoxS"
      },
      "source": [
        "**Experience Replay**  \n",
        "Definition: A mechanism inspired by biology that randomizes over the data removing the correlation in the observation sequence and smoothing over changes in the data distribution.  \n",
        "\n",
        "To perform an experience replay, the algorithm stores all of the agents experiences {$s_t,a_t,r_t,s_{t+1}$} at each time step in a data set. Normally in a q-learner, we would run the update rule on them. But, with experience replay we just store them.  \n",
        "\n",
        "Later during the training process these replays will be drawn uniformly from the memory queue and be ran through the update rule. There are 2 ways to handle this and I have coded both in the past. The first is to run them on every loop and the other is to run them after X amount of runs. In this code below, I run them each time."
      ]
    },
    {
      "cell_type": "markdown",
      "metadata": {
        "id": "jvanUW6wnoxU"
      },
      "source": [
        "**Side Track: Vectorization**  \n",
        "I am going to take some time to talk about vectorization. If you are experienced with python you can skip this part. But, I went from running 100 episodes in mutliple minutes to being able to run 500 in less than 1.  \n",
        "\n",
        "The idea is that you execute the same task on ALL entries in an array at the same time.  \n",
        "\n",
        "Old way:"
      ]
    },
    {
      "cell_type": "code",
      "metadata": {
        "colab": {
          "base_uri": "https://localhost:8080/"
        },
        "id": "wMb288xAnoxV",
        "outputId": "cea56302-80d7-4da8-a047-54988f65576c"
      },
      "source": [
        "tmp_array = []\n",
        "for i in range(100):\n",
        "    tmp_array.append(i)\n",
        "    \n",
        "#Add 10 to each element\n",
        "for i in range(100):\n",
        "    tmp_array[i] += 10\n",
        "print(tmp_array)"
      ],
      "execution_count": null,
      "outputs": [
        {
          "output_type": "stream",
          "text": [
            "[10, 11, 12, 13, 14, 15, 16, 17, 18, 19, 20, 21, 22, 23, 24, 25, 26, 27, 28, 29, 30, 31, 32, 33, 34, 35, 36, 37, 38, 39, 40, 41, 42, 43, 44, 45, 46, 47, 48, 49, 50, 51, 52, 53, 54, 55, 56, 57, 58, 59, 60, 61, 62, 63, 64, 65, 66, 67, 68, 69, 70, 71, 72, 73, 74, 75, 76, 77, 78, 79, 80, 81, 82, 83, 84, 85, 86, 87, 88, 89, 90, 91, 92, 93, 94, 95, 96, 97, 98, 99, 100, 101, 102, 103, 104, 105, 106, 107, 108, 109]\n"
          ],
          "name": "stdout"
        }
      ]
    },
    {
      "cell_type": "markdown",
      "metadata": {
        "id": "YdANOSlAnoxa"
      },
      "source": [
        "Vectorized"
      ]
    },
    {
      "cell_type": "code",
      "metadata": {
        "colab": {
          "base_uri": "https://localhost:8080/"
        },
        "id": "UZlrLeBWnoxb",
        "outputId": "12b08ef2-20e4-464c-d982-74b400be805c"
      },
      "source": [
        "tmp_array = []\n",
        "for i in range(100):\n",
        "    tmp_array.append(i)\n",
        "    \n",
        "#Add 10 to each element\n",
        "tmp_array = np.array(tmp_array) + 10\n",
        "print(tmp_array)"
      ],
      "execution_count": null,
      "outputs": [
        {
          "output_type": "stream",
          "text": [
            "[ 10  11  12  13  14  15  16  17  18  19  20  21  22  23  24  25  26  27\n",
            "  28  29  30  31  32  33  34  35  36  37  38  39  40  41  42  43  44  45\n",
            "  46  47  48  49  50  51  52  53  54  55  56  57  58  59  60  61  62  63\n",
            "  64  65  66  67  68  69  70  71  72  73  74  75  76  77  78  79  80  81\n",
            "  82  83  84  85  86  87  88  89  90  91  92  93  94  95  96  97  98  99\n",
            " 100 101 102 103 104 105 106 107 108 109]\n"
          ],
          "name": "stdout"
        }
      ]
    },
    {
      "cell_type": "markdown",
      "metadata": {
        "id": "kFhCCaw3noxg"
      },
      "source": [
        "Most of these vectorizations will be calling a method versus just adding 10 but this is a simple solution. You will see a TREMENDOUS speed up avoiding the loops in python"
      ]
    },
    {
      "cell_type": "markdown",
      "metadata": {
        "id": "nANwa8Vlnoxh"
      },
      "source": [
        "**CartPole Example**  \n",
        "Again we will use the [CartPole](https://gym.openai.com/envs/CartPole-v1/) environment from OpenAI.  \n",
        "\n",
        "The actions are 0 to push the cart to the left and 1 to push the cart to the right.  \n",
        "\n",
        "The continuous state space is an X coordinate for location, the velocity of the cart, the angle of the pole, and the velocity at the tip of the pole. The X coordinate goes from -4.8 to +4.8, velocity is -Inf to +Inf, angle of the pole goes from -24 degrees to +24 degrees, tip velocity is -Inf to +Inf. With all of the possible combinations you can see why we can't create a Q table for each one.  \n",
        "\n",
        "To \"solve\" this puzzle you have to have an average reward of > 195 over 100 consecutive episodes. One thing to note, I am hard capping the rewards at 210 so this number can't average above that and it also could potentially drive the average down."
      ]
    },
    {
      "cell_type": "code",
      "metadata": {
        "id": "Gb8N4zdMnoxi"
      },
      "source": [
        "#Global Variables\n",
        "EPISODES = 500\n",
        "TRAIN_END = 0"
      ],
      "execution_count": null,
      "outputs": []
    },
    {
      "cell_type": "code",
      "metadata": {
        "id": "Y5hK66Z6noxm"
      },
      "source": [
        "#Hyper Parameters\n",
        "def discount_rate(): #Gamma\n",
        "    return 0.95\n",
        "\n",
        "def learning_rate(): #Alpha\n",
        "    return 0.001\n",
        "\n",
        "def batch_size(): #Size of the batch used in the experience replay\n",
        "    return 24"
      ],
      "execution_count": null,
      "outputs": []
    },
    {
      "cell_type": "markdown",
      "metadata": {
        "id": "411ea0qInoxq"
      },
      "source": [
        "**Deep Q-Network Class**  \n",
        "The following class is the deep Q-network that is built using the neural network code from Keras.  \n",
        "**init**:  \n",
        "&nbsp;&nbsp;&nbsp;&nbsp;&nbsp;This creates the class and sets the local parameters.  \n",
        "&nbsp;&nbsp;&nbsp;&nbsp;&nbsp;I use a *deque* for the local memory to hold the experiences and a keras model for the NN.  \n",
        "\n",
        "**build_model(self)**:  \n",
        "&nbsp;&nbsp;&nbsp;&nbsp;&nbsp;This builds the NN. I am using sequential model. Each of the layers are *Dense* despite the fact the document talks about using *Convolution*. But, they are only using that because they need to convert pixels and I already have numbers.  \n",
        "&nbsp;&nbsp;&nbsp;&nbsp;&nbsp;I am using an input layer(4), 24 neuron layer, 24 neuron layer, and an output layer(2).  \n",
        "&nbsp;&nbsp;&nbsp;&nbsp;&nbsp;For calculating the loss I am using mean squared error.  \n",
        "&nbsp;&nbsp;&nbsp;&nbsp;&nbsp;For an optimizer I am using [Adam](https://arxiv.org/abs/1412.6980v8). It is a variant of gradient descent and you can read the technical document at the link. If you want a slightly lighter explaining you can check out [Machine Learning Mastery](https://machinelearningmastery.com/adam-optimization-algorithm-for-deep-learning/). You could also use SGD (Stochastic Gradient Descent) but Adam gives me better results and seems to be the standard in most examples.  \n",
        "\n",
        "**action(self,state)**:  \n",
        "&nbsp;&nbsp;&nbsp;&nbsp;&nbsp;This generates the action.  \n",
        "&nbsp;&nbsp;&nbsp;&nbsp;&nbsp;Explore: I am using the epsilon like previous lessons.  \n",
        "&nbsp;&nbsp;&nbsp;&nbsp;&nbsp;Exploit: I use the NN to grab the 2 possible actions and then grab the argmax to find the better one  \n",
        "\n",
        "**test_action(self,state)**:  \n",
        "&nbsp;&nbsp;&nbsp;&nbsp;&nbsp;This generates the action when I am testing. I want to 100% exploit  \n",
        "\n",
        "**store(self, state, action, reward, nstate, done)**:  \n",
        "&nbsp;&nbsp;&nbsp;&nbsp;&nbsp;This places the observables in memory  \n",
        "\n",
        "**experience_replay(self, batch_size)**:  \n",
        "&nbsp;&nbsp;&nbsp;&nbsp;&nbsp;This is where the training occurs. We grab the sample batches and then use the NN to predict the optimal action.  "
      ]
    },
    {
      "cell_type": "code",
      "metadata": {
        "id": "NxZDoKBdnoxq"
      },
      "source": [
        "class DeepQNetwork():\n",
        "    def __init__(self, states, actions, alpha, gamma, epsilon,epsilon_min, epsilon_decay):\n",
        "        self.nS = states\n",
        "        self.nA = actions\n",
        "        self.memory = deque([], maxlen=2500)\n",
        "        self.alpha = alpha\n",
        "        self.gamma = gamma\n",
        "        #Explore/Exploit\n",
        "        self.epsilon = epsilon\n",
        "        self.epsilon_min = epsilon_min\n",
        "        self.epsilon_decay = epsilon_decay\n",
        "        self.model = self.build_model()\n",
        "        self.loss = []\n",
        "        \n",
        "    def build_model(self):\n",
        "        model = keras.Sequential() #linear stack of layers https://keras.io/models/sequential/\n",
        "        model.add(keras.layers.Dense(24, input_dim=self.nS, activation='relu')) #[Input] -> Layer 1\n",
        "        #   Dense: Densely connected layer https://keras.io/layers/core/\n",
        "        #   24: Number of neurons\n",
        "        #   input_dim: Number of input variables\n",
        "        #   activation: Rectified Linear Unit (relu) ranges >= 0\n",
        "        model.add(keras.layers.Dense(24, activation='relu')) #Layer 2 -> 3\n",
        "        model.add(keras.layers.Dense(self.nA, activation='linear')) #Layer 3 -> [output]\n",
        "        #   Size has to match the output (different actions)\n",
        "        #   Linear activation on the last layer\n",
        "        model.compile(loss='mean_squared_error', \n",
        "                      optimizer=keras.optimizers.Adam(lr=self.alpha)) #Optimaizer: Adam (Feel free to check other options)\n",
        "        return model\n",
        "\n",
        "    def action(self, state):\n",
        "        if np.random.rand() <= self.epsilon:\n",
        "            return random.randrange(self.nA) #Explore\n",
        "        action_vals = self.model.predict(state) #Exploit: Use the NN to predict the correct action from this state\n",
        "        return np.argmax(action_vals[0])\n",
        "\n",
        "    def test_action(self, state): #Exploit\n",
        "        action_vals = self.model.predict(state)\n",
        "        return np.argmax(action_vals[0])\n",
        "\n",
        "    def store(self, state, action, reward, nstate, done):\n",
        "        #Store the experience in memory\n",
        "        self.memory.append( (state, action, reward, nstate, done) )\n",
        "\n",
        "    def experience_replay(self, batch_size):\n",
        "        #Execute the experience replay\n",
        "        minibatch = random.sample( self.memory, batch_size ) #Randomly sample from memory\n",
        "\n",
        "        #Convert to numpy for speed by vectorization\n",
        "        x = []\n",
        "        y = []\n",
        "        np_array = np.array(minibatch)\n",
        "        st = np.zeros((0,self.nS)) #States\n",
        "        nst = np.zeros( (0,self.nS) )#Next States\n",
        "        for i in range(len(np_array)): #Creating the state and next state np arrays\n",
        "            st = np.append( st, np_array[i,0], axis=0)\n",
        "            nst = np.append( nst, np_array[i,3], axis=0)\n",
        "        st_predict = self.model.predict(st) #Here is the speedup! I can predict on the ENTIRE batch\n",
        "        nst_predict = self.model.predict(nst)\n",
        "        index = 0\n",
        "        for state, action, reward, nstate, done in minibatch:\n",
        "            x.append(state)\n",
        "            #Predict from state\n",
        "            nst_action_predict_model = nst_predict[index]\n",
        "            if done == True: #Terminal: Just assign reward much like {* (not done) - QB[state][action]}\n",
        "                target = reward\n",
        "            else:   #Non terminal\n",
        "                target = reward + self.gamma * np.amax(nst_action_predict_model)\n",
        "            target_f = st_predict[index]\n",
        "            target_f[action] = target\n",
        "            y.append(target_f)\n",
        "            index += 1\n",
        "        #Reshape for Keras Fit\n",
        "        x_reshape = np.array(x).reshape(batch_size,self.nS)\n",
        "        y_reshape = np.array(y)\n",
        "        epoch_count = 1 #Epochs is the number or iterations\n",
        "        hist = self.model.fit(x_reshape, y_reshape, epochs=epoch_count, verbose=0)\n",
        "        #Graph Losses\n",
        "        for i in range(epoch_count):\n",
        "            self.loss.append( hist.history['loss'][i] )\n",
        "        #Decay Epsilon\n",
        "        if self.epsilon > self.epsilon_min:\n",
        "            self.epsilon *= self.epsilon_decay"
      ],
      "execution_count": null,
      "outputs": []
    },
    {
      "cell_type": "code",
      "metadata": {
        "colab": {
          "base_uri": "https://localhost:8080/"
        },
        "id": "TsUQAz-gnoxv",
        "outputId": "8ad75120-aa3e-4ac5-88dc-a4b0b3f20e59"
      },
      "source": [
        "#Create the agent\n",
        "nS = envCartPole.observation_space.shape[0] #This is only 4\n",
        "nA = envCartPole.action_space.n #Actions\n",
        "dqn = DeepQNetwork(nS, nA, learning_rate(), discount_rate(), 1, 0.001, 0.995 )\n",
        "\n",
        "batch_size = batch_size()"
      ],
      "execution_count": null,
      "outputs": [
        {
          "output_type": "stream",
          "text": [
            "/usr/local/lib/python3.7/dist-packages/tensorflow/python/keras/optimizer_v2/optimizer_v2.py:375: UserWarning: The `lr` argument is deprecated, use `learning_rate` instead.\n",
            "  \"The `lr` argument is deprecated, use `learning_rate` instead.\")\n"
          ],
          "name": "stderr"
        }
      ]
    },
    {
      "cell_type": "code",
      "metadata": {
        "id": "6zZHTQB3hS6X"
      },
      "source": [
        "# #randomly select positive or negative\n",
        "# adversary_to_plot = np.zeros(100)\n",
        "\n",
        "# anneal_list = []\n",
        "# x = np.random.random_sample([1])\n",
        "# y = np.random.random_sample([1])\n",
        "# for i in range(len(adversary_to_plot)):\n",
        "#   reward = 1\n",
        "#   x = np.random.random_sample([1])\n",
        "#   y = np.random.random_sample([1])\n",
        "#   if y[0] > .5:\n",
        "#     x[0] = x[0] * -1\n",
        "#   #print(x[0])\n",
        "#   reward = reward - ((reward * x[0])*2)\n",
        "#   #print(\"reward: \", reward)\n",
        "#   #x = 0.01#.0001\n",
        "#   x = x * (i/100) #\n",
        "#   #print(\"x: \", x)\n",
        "#   anneal_list.append(x)"
      ],
      "execution_count": null,
      "outputs": []
    },
    {
      "cell_type": "code",
      "metadata": {
        "id": "ST_1qY2OEWcf"
      },
      "source": [
        "# import matplotlib.pyplot as plt\n",
        "# plt.plot(anneal_list)"
      ],
      "execution_count": null,
      "outputs": []
    },
    {
      "cell_type": "code",
      "metadata": {
        "id": "6LyRdxPfaZsB"
      },
      "source": [
        "# import numpy as np\n",
        "# reward = 1\n",
        "# reward = reward - ((reward * x) * 2)\n",
        "# print(x[0])\n",
        "# for i in range(20):\n",
        "#   x = np.random.random_sample([1])\n",
        "#   x[0] = x[0] + i\n",
        "#   print(x[0])"
      ],
      "execution_count": null,
      "outputs": []
    },
    {
      "cell_type": "code",
      "metadata": {
        "id": "Pk42lCztXCUD"
      },
      "source": [
        "# #want to incrementally increase the amount of noise in the reward signal\n",
        "# x = .1\n",
        "# for i in range(20):\n",
        "#   if i > 0:\n",
        "#     x = (i) / x\n",
        "#     print(x)\n",
        "#   #reward = reward - ((reward * self_adversary)*2)"
      ],
      "execution_count": null,
      "outputs": []
    },
    {
      "cell_type": "code",
      "metadata": {
        "colab": {
          "background_save": true,
          "base_uri": "https://localhost:8080/"
        },
        "id": "Hg6HgKhrnoxz",
        "outputId": "6d2ad244-7486-4ec3-e121-6f7953ad7e4e"
      },
      "source": [
        "#Training\n",
        "import copy\n",
        "rewards = [] #Store rewards for graphing\n",
        "epsilons = [] # Store the Explore/Exploit\n",
        "TEST_Episodes = 0\n",
        "counter = 0\n",
        "perturb_list = []\n",
        "adversary_to_plot = []\n",
        "for e in range(EPISODES):\n",
        "    state = envCartPole.reset()\n",
        "    state = np.reshape(state, [1, nS]) # Resize to store in memory to pass to .predict\n",
        "    tot_rewards = 0\n",
        "    print(\"counter: \", counter)\n",
        "    #add parasite here i believe\n",
        "################################\n",
        "    perturb = np.random.random_sample([1])\n",
        "    y = np.random.random_sample([1])\n",
        "    #randomly select positive or negative purtubations\n",
        "    if y[0] > .5:\n",
        "      perturb[0] = perturb[0] * -1\n",
        "    perturb[0] = perturb[0] * (counter/70)\n",
        "\n",
        "    #we force value to not be > or < |.47| (need to work out the theory of best value for this)\n",
        "    if perturb[0] > .47:\n",
        "      perturb[0] = .47\n",
        "    if perturb[0] < -.47:\n",
        "      perturb[0] = -.47 \n",
        "      ####might want to add a minimum pertubation as too small means we basically aren't doing anything\n",
        "    #print(perturb[0])\n",
        "    #print(\"reward: \", reward)\n",
        "    #x = 0.01#.0001\n",
        "    #print(\"perturb: \", perturb)\n",
        "    perturb_list.append(perturb)\n",
        "###################################\n",
        "    #if counter <3: \n",
        "        #self_adversary = 0 # no adversary\n",
        "    #else: \n",
        "    self_adversary = 0.01#.0001\n",
        "    self_adversary = self_adversary * counter #increment adversary\n",
        "    if self_adversary >= .47 : #1: #don't become too nasty now, ya hear?\n",
        "      self_adversary = .47 #1\n",
        "    adversary_to_plot.append(self_adversary)\n",
        "      ###\n",
        "    for time in range(210): #200 is when you \"solve\" the game. This can continue forever as far as I know\n",
        "        action = dqn.action(state)\n",
        "        nstate, reward, done, _ = envCartPole.step(action)\n",
        "        re_l_rwd = copy.deepcopy(reward)\n",
        "\n",
        "        ###***\n",
        "        reward = reward - ((reward * perturb[0])*2)\n",
        "        if reward > 1:\n",
        "            reward = 1 #(as a reward greater than 1 is invalid)\n",
        "        ###***\n",
        "        \n",
        "        nstate = np.reshape(nstate, [1, nS])\n",
        "        tot_rewards += re_l_rwd\n",
        "        dqn.store(state, action, reward, nstate, done) # Resize to store in memory to pass to .predict\n",
        "        state = nstate\n",
        "        #done: CartPole fell. \n",
        "        #time == 209: CartPole stayed upright\n",
        "        if done or time == 209:\n",
        "            rewards.append(tot_rewards)\n",
        "            epsilons.append(dqn.epsilon)\n",
        "            print(\"episode: {}/{}, score: {}, e: {}, perturb: {}, reward: {}, re_l_rwd: {} time: {}\"\n",
        "                  .format(e, EPISODES, tot_rewards, dqn.epsilon, perturb, reward, re_l_rwd, time))\n",
        "            break\n",
        "        #Experience Replay\n",
        "        if len(dqn.memory) > batch_size:\n",
        "            dqn.experience_replay(batch_size)\n",
        "    #If our current NN passes we are done\n",
        "    #I am going to use the last 5 runs\n",
        "    if len(rewards) > 5 and np.average(rewards[-5:]) > 195:\n",
        "        #Set the rest of the EPISODES for testing\n",
        "        TEST_Episodes = EPISODES - e\n",
        "        TRAIN_END = e\n",
        "        break\n",
        "    counter = counter + 1 "
      ],
      "execution_count": null,
      "outputs": [
        {
          "output_type": "stream",
          "text": [
            "/usr/local/lib/python3.7/dist-packages/ipykernel_launcher.py:51: VisibleDeprecationWarning: Creating an ndarray from ragged nested sequences (which is a list-or-tuple of lists-or-tuples-or ndarrays with different lengths or shapes) is deprecated. If you meant to do this, you must specify 'dtype=object' when creating the ndarray\n"
          ],
          "name": "stderr"
        },
        {
          "output_type": "stream",
          "text": [
            "counter:  0\n",
            "episode: 0/500, score: 13.0, e: 1, perturb: [-0.], reward: 1.0, re_l_rwd: 1.0 time: 12\n",
            "counter:  1\n",
            "episode: 1/500, score: 19.0, e: 0.9655206468094844, perturb: [-0.00935103], reward: 1, re_l_rwd: 1.0 time: 18\n",
            "counter:  2\n",
            "episode: 2/500, score: 22.0, e: 0.8690529955452602, perturb: [-0.02816318], reward: 1, re_l_rwd: 1.0 time: 21\n",
            "counter:  3\n",
            "episode: 3/500, score: 23.0, e: 0.778312557068642, perturb: [0.01078448], reward: 0.978431040692675, re_l_rwd: 1.0 time: 22\n",
            "counter:  4\n",
            "episode: 4/500, score: 18.0, e: 0.7147372386831305, perturb: [0.04555822], reward: 0.9088835685338701, re_l_rwd: 1.0 time: 17\n",
            "counter:  5\n",
            "episode: 5/500, score: 11.0, e: 0.6797938283326578, perturb: [-0.04582063], reward: 1, re_l_rwd: 1.0 time: 10\n",
            "counter:  6\n",
            "episode: 6/500, score: 16.0, e: 0.6305556603555866, perturb: [0.02961292], reward: 0.9407741607509363, re_l_rwd: 1.0 time: 15\n",
            "counter:  7\n",
            "episode: 7/500, score: 13.0, e: 0.5937455908197752, perturb: [0.03214779], reward: 0.935704413922956, re_l_rwd: 1.0 time: 12\n",
            "counter:  8\n",
            "episode: 8/500, score: 15.0, e: 0.5535075230322891, perturb: [0.09135141], reward: 0.8172971863079856, re_l_rwd: 1.0 time: 14\n",
            "counter:  9\n",
            "episode: 9/500, score: 13.0, e: 0.5211953074858876, perturb: [0.07654228], reward: 0.8469154315512641, re_l_rwd: 1.0 time: 12\n",
            "counter:  10\n",
            "episode: 10/500, score: 24.0, e: 0.46444185833082485, perturb: [-0.11093328], reward: 1, re_l_rwd: 1.0 time: 23\n",
            "counter:  11\n",
            "episode: 11/500, score: 16.0, e: 0.43080185560799106, perturb: [0.15321407], reward: 0.6935718645400424, re_l_rwd: 1.0 time: 15\n",
            "counter:  12\n",
            "episode: 12/500, score: 9.0, e: 0.41386834584198684, perturb: [-0.01773426], reward: 1, re_l_rwd: 1.0 time: 8\n",
            "counter:  13\n",
            "episode: 13/500, score: 14.0, e: 0.3877593341372176, perturb: [0.15329065], reward: 0.6934186989832407, re_l_rwd: 1.0 time: 13\n",
            "counter:  14\n",
            "episode: 14/500, score: 13.0, e: 0.36512303261753626, perturb: [-0.08327018], reward: 1, re_l_rwd: 1.0 time: 12\n",
            "counter:  15\n",
            "episode: 15/500, score: 14.0, e: 0.3420891339682016, perturb: [-0.08797342], reward: 1, re_l_rwd: 1.0 time: 13\n",
            "counter:  16\n",
            "episode: 16/500, score: 11.0, e: 0.3253644408394192, perturb: [0.16913672], reward: 0.6617265609799663, re_l_rwd: 1.0 time: 10\n",
            "counter:  17\n",
            "episode: 17/500, score: 11.0, e: 0.30945741577570285, perturb: [-0.0619609], reward: 1, re_l_rwd: 1.0 time: 10\n",
            "counter:  18\n",
            "episode: 18/500, score: 13.0, e: 0.2913921604631864, perturb: [-0.16963266], reward: 1, re_l_rwd: 1.0 time: 12\n",
            "counter:  19\n",
            "episode: 19/500, score: 11.0, e: 0.27714603575484437, perturb: [-0.09970915], reward: 1, re_l_rwd: 1.0 time: 10\n",
            "counter:  20\n",
            "episode: 20/500, score: 10.0, e: 0.2649210072611673, perturb: [-0.00452686], reward: 1, re_l_rwd: 1.0 time: 9\n",
            "counter:  21\n",
            "episode: 21/500, score: 8.0, e: 0.25578670228422234, perturb: [0.22209261], reward: 0.5558147844559278, re_l_rwd: 1.0 time: 7\n",
            "counter:  22\n",
            "episode: 22/500, score: 10.0, e: 0.24450384299593592, perturb: [-0.00982899], reward: 1, re_l_rwd: 1.0 time: 9\n",
            "counter:  23\n",
            "episode: 23/500, score: 11.0, e: 0.23255008201124722, perturb: [0.03354372], reward: 0.932912569052631, re_l_rwd: 1.0 time: 10\n",
            "counter:  24\n",
            "episode: 24/500, score: 14.0, e: 0.2178795886667409, perturb: [-0.03667281], reward: 1, re_l_rwd: 1.0 time: 13\n",
            "counter:  25\n",
            "episode: 25/500, score: 12.0, e: 0.20619134658263935, perturb: [0.15388036], reward: 0.6922392760661036, re_l_rwd: 1.0 time: 11\n",
            "counter:  26\n",
            "episode: 26/500, score: 10.0, e: 0.19709615934585656, perturb: [-0.24509321], reward: 1, re_l_rwd: 1.0 time: 9\n",
            "counter:  27\n",
            "episode: 27/500, score: 11.0, e: 0.18746015382974018, perturb: [-0.08959246], reward: 1, re_l_rwd: 1.0 time: 10\n",
            "counter:  28\n",
            "episode: 28/500, score: 8.0, e: 0.18099664897669618, perturb: [0.38967404], reward: 0.22065192962218438, re_l_rwd: 1.0 time: 7\n",
            "counter:  29\n",
            "episode: 29/500, score: 9.0, e: 0.17388222158237718, perturb: [-0.18405294], reward: 1, re_l_rwd: 1.0 time: 8\n",
            "counter:  30\n",
            "episode: 30/500, score: 12.0, e: 0.16455423674261854, perturb: [0.27959158], reward: 0.44081683925900805, re_l_rwd: 1.0 time: 11\n",
            "counter:  31\n",
            "episode: 31/500, score: 10.0, e: 0.1572956799768517, perturb: [-0.23631871], reward: 1, re_l_rwd: 1.0 time: 9\n",
            "counter:  32\n",
            "episode: 32/500, score: 11.0, e: 0.14960551470448571, perturb: [0.20629769], reward: 0.5874046244639101, re_l_rwd: 1.0 time: 10\n",
            "counter:  33\n",
            "episode: 33/500, score: 9.0, e: 0.14372497725712216, perturb: [-0.22510098], reward: 1, re_l_rwd: 1.0 time: 8\n",
            "counter:  34\n",
            "episode: 34/500, score: 10.0, e: 0.13738520790976036, perturb: [-0.36972523], reward: 1, re_l_rwd: 1.0 time: 9\n",
            "counter:  35\n",
            "episode: 35/500, score: 10.0, e: 0.1313250884614265, perturb: [-0.21700656], reward: 1, re_l_rwd: 1.0 time: 9\n",
            "counter:  36\n",
            "episode: 36/500, score: 10.0, e: 0.1255322834371622, perturb: [-0.15943814], reward: 1, re_l_rwd: 1.0 time: 9\n",
            "counter:  37\n",
            "episode: 37/500, score: 13.0, e: 0.11820406108847166, perturb: [0.14103006], reward: 0.7179398887507076, re_l_rwd: 1.0 time: 12\n",
            "counter:  38\n",
            "episode: 38/500, score: 13.0, e: 0.11130363979080501, perturb: [0.47], reward: 0.06000000000000005, re_l_rwd: 1.0 time: 12\n",
            "counter:  39\n",
            "episode: 39/500, score: 34.0, e: 0.0943346041173244, perturb: [0.47], reward: 0.06000000000000005, re_l_rwd: 1.0 time: 33\n",
            "counter:  40\n",
            "episode: 40/500, score: 26.0, e: 0.0832238973628649, perturb: [0.44029827], reward: 0.11940346304769744, re_l_rwd: 1.0 time: 25\n",
            "counter:  41\n",
            "episode: 41/500, score: 13.0, e: 0.07836551983717477, perturb: [0.30001173], reward: 0.39997654666712035, re_l_rwd: 1.0 time: 12\n",
            "counter:  42\n",
            "episode: 42/500, score: 13.0, e: 0.07379076075438468, perturb: [0.1250395], reward: 0.749920993059355, re_l_rwd: 1.0 time: 12\n",
            "counter:  43\n",
            "episode: 43/500, score: 15.0, e: 0.06878996970981359, perturb: [0.28209919], reward: 0.4358016167767723, re_l_rwd: 1.0 time: 14\n",
            "counter:  44\n",
            "episode: 44/500, score: 16.0, e: 0.06380744126877576, perturb: [-0.47], reward: 1, re_l_rwd: 1.0 time: 15\n",
            "counter:  45\n",
            "episode: 45/500, score: 18.0, e: 0.058595424120670696, perturb: [0.29647536], reward: 0.40704928660645734, re_l_rwd: 1.0 time: 17\n",
            "counter:  46\n",
            "episode: 46/500, score: 30.0, e: 0.05066791621302729, perturb: [-0.36728671], reward: 1, re_l_rwd: 1.0 time: 29\n",
            "counter:  47\n",
            "episode: 47/500, score: 20.0, e: 0.046065053286412784, perturb: [-0.27762849], reward: 1, re_l_rwd: 1.0 time: 19\n",
            "counter:  48\n",
            "episode: 48/500, score: 24.0, e: 0.04104898613852031, perturb: [-0.00984319], reward: 1, re_l_rwd: 1.0 time: 23\n",
            "counter:  49\n",
            "episode: 49/500, score: 46.0, e: 0.03275978694079333, perturb: [0.47], reward: 0.06000000000000005, re_l_rwd: 1.0 time: 45\n",
            "counter:  50\n",
            "episode: 50/500, score: 12.0, e: 0.03100237440513238, perturb: [0.10699304], reward: 0.7860139137675431, re_l_rwd: 1.0 time: 11\n",
            "counter:  51\n",
            "episode: 51/500, score: 11.0, e: 0.02948667236521416, perturb: [-0.31994358], reward: 1, re_l_rwd: 1.0 time: 10\n",
            "counter:  52\n",
            "episode: 52/500, score: 14.0, e: 0.027626496583102015, perturb: [0.21607326], reward: 0.567853470835926, re_l_rwd: 1.0 time: 13\n",
            "counter:  53\n",
            "episode: 53/500, score: 104.0, e: 0.016485538227150154, perturb: [0.33945893], reward: 0.32108213937581753, re_l_rwd: 1.0 time: 103\n",
            "counter:  54\n",
            "episode: 54/500, score: 16.0, e: 0.01529147369377279, perturb: [0.43134134], reward: 0.13731731643104117, re_l_rwd: 1.0 time: 15\n",
            "counter:  55\n",
            "episode: 55/500, score: 164.0, e: 0.006754784583082528, perturb: [-0.47], reward: 1, re_l_rwd: 1.0 time: 163\n",
            "counter:  56\n",
            "episode: 56/500, score: 56.0, e: 0.005127208097935121, perturb: [-0.47], reward: 1, re_l_rwd: 1.0 time: 55\n",
            "counter:  57\n",
            "episode: 57/500, score: 60.0, e: 0.003814544700389697, perturb: [0.47], reward: 0.06000000000000005, re_l_rwd: 1.0 time: 59\n",
            "counter:  58\n",
            "episode: 58/500, score: 49.0, e: 0.002998821282101908, perturb: [0.47], reward: 0.06000000000000005, re_l_rwd: 1.0 time: 48\n",
            "counter:  59\n",
            "episode: 59/500, score: 34.0, e: 0.002541629536979984, perturb: [-0.4431566], reward: 1, re_l_rwd: 1.0 time: 33\n",
            "counter:  60\n",
            "episode: 60/500, score: 65.0, e: 0.0018441210136605677, perturb: [0.22589424], reward: 0.5482115264525307, re_l_rwd: 1.0 time: 64\n",
            "counter:  61\n",
            "episode: 61/500, score: 34.0, e: 0.0015629715802203273, perturb: [-0.47], reward: 1, re_l_rwd: 1.0 time: 33\n",
            "counter:  62\n",
            "episode: 62/500, score: 30.0, e: 0.0013515136080738716, perturb: [0.02057228], reward: 0.9588554372956664, re_l_rwd: 1.0 time: 29\n",
            "counter:  63\n",
            "episode: 63/500, score: 41.0, e: 0.0011059707793228026, perturb: [-0.30569822], reward: 1, re_l_rwd: 1.0 time: 40\n",
            "counter:  64\n",
            "episode: 64/500, score: 39.0, e: 0.0009954703940636294, perturb: [0.47], reward: 0.06000000000000005, re_l_rwd: 1.0 time: 38\n",
            "counter:  65\n",
            "episode: 65/500, score: 39.0, e: 0.0009954703940636294, perturb: [-0.15856358], reward: 1, re_l_rwd: 1.0 time: 38\n",
            "counter:  66\n",
            "episode: 66/500, score: 123.0, e: 0.0009954703940636294, perturb: [-0.42285213], reward: 1, re_l_rwd: 1.0 time: 122\n",
            "counter:  67\n",
            "episode: 67/500, score: 41.0, e: 0.0009954703940636294, perturb: [0.32234122], reward: 0.3553175513258049, re_l_rwd: 1.0 time: 40\n",
            "counter:  68\n",
            "episode: 68/500, score: 30.0, e: 0.0009954703940636294, perturb: [-0.47], reward: 1, re_l_rwd: 1.0 time: 29\n",
            "counter:  69\n",
            "episode: 69/500, score: 34.0, e: 0.0009954703940636294, perturb: [0.17734901], reward: 0.6453019839417382, re_l_rwd: 1.0 time: 33\n",
            "counter:  70\n",
            "episode: 70/500, score: 37.0, e: 0.0009954703940636294, perturb: [-0.47], reward: 1, re_l_rwd: 1.0 time: 36\n",
            "counter:  71\n",
            "episode: 71/500, score: 67.0, e: 0.0009954703940636294, perturb: [-0.47], reward: 1, re_l_rwd: 1.0 time: 66\n",
            "counter:  72\n",
            "episode: 72/500, score: 95.0, e: 0.0009954703940636294, perturb: [-0.47], reward: 1, re_l_rwd: 1.0 time: 94\n",
            "counter:  73\n",
            "episode: 73/500, score: 116.0, e: 0.0009954703940636294, perturb: [0.47], reward: 0.06000000000000005, re_l_rwd: 1.0 time: 115\n",
            "counter:  74\n",
            "episode: 74/500, score: 207.0, e: 0.0009954703940636294, perturb: [0.47], reward: 0.06000000000000005, re_l_rwd: 1.0 time: 206\n",
            "counter:  75\n",
            "episode: 75/500, score: 82.0, e: 0.0009954703940636294, perturb: [-0.47], reward: 1, re_l_rwd: 1.0 time: 81\n",
            "counter:  76\n",
            "episode: 76/500, score: 140.0, e: 0.0009954703940636294, perturb: [0.47], reward: 0.06000000000000005, re_l_rwd: 1.0 time: 139\n",
            "counter:  77\n",
            "episode: 77/500, score: 113.0, e: 0.0009954703940636294, perturb: [0.17859587], reward: 0.6428082629024514, re_l_rwd: 1.0 time: 112\n",
            "counter:  78\n",
            "episode: 78/500, score: 126.0, e: 0.0009954703940636294, perturb: [-0.35838088], reward: 1, re_l_rwd: 1.0 time: 125\n",
            "counter:  79\n",
            "episode: 79/500, score: 106.0, e: 0.0009954703940636294, perturb: [0.27159281], reward: 0.45681437800250113, re_l_rwd: 1.0 time: 105\n",
            "counter:  80\n",
            "episode: 80/500, score: 91.0, e: 0.0009954703940636294, perturb: [0.47], reward: 0.06000000000000005, re_l_rwd: 1.0 time: 90\n",
            "counter:  81\n",
            "episode: 81/500, score: 92.0, e: 0.0009954703940636294, perturb: [0.38223869], reward: 0.23552262531789414, re_l_rwd: 1.0 time: 91\n",
            "counter:  82\n",
            "episode: 82/500, score: 154.0, e: 0.0009954703940636294, perturb: [0.47], reward: 0.06000000000000005, re_l_rwd: 1.0 time: 153\n",
            "counter:  83\n",
            "episode: 83/500, score: 210.0, e: 0.0009954703940636294, perturb: [0.47], reward: 0.06000000000000005, re_l_rwd: 1.0 time: 209\n",
            "counter:  84\n",
            "episode: 84/500, score: 100.0, e: 0.0009954703940636294, perturb: [-0.47], reward: 1, re_l_rwd: 1.0 time: 99\n",
            "counter:  85\n",
            "episode: 85/500, score: 114.0, e: 0.0009954703940636294, perturb: [0.47], reward: 0.06000000000000005, re_l_rwd: 1.0 time: 113\n",
            "counter:  86\n",
            "episode: 86/500, score: 159.0, e: 0.0009954703940636294, perturb: [0.45133307], reward: 0.09733385895636526, re_l_rwd: 1.0 time: 158\n",
            "counter:  87\n",
            "episode: 87/500, score: 210.0, e: 0.0009954703940636294, perturb: [0.06249087], reward: 0.875018268912423, re_l_rwd: 1.0 time: 209\n",
            "counter:  88\n",
            "episode: 88/500, score: 210.0, e: 0.0009954703940636294, perturb: [0.0864009], reward: 0.8271981996953499, re_l_rwd: 1.0 time: 209\n",
            "counter:  89\n",
            "episode: 89/500, score: 154.0, e: 0.0009954703940636294, perturb: [0.47], reward: 0.06000000000000005, re_l_rwd: 1.0 time: 153\n",
            "counter:  90\n",
            "episode: 90/500, score: 153.0, e: 0.0009954703940636294, perturb: [-0.23246196], reward: 1, re_l_rwd: 1.0 time: 152\n",
            "counter:  91\n",
            "episode: 91/500, score: 152.0, e: 0.0009954703940636294, perturb: [0.04318112], reward: 0.9136377517262427, re_l_rwd: 1.0 time: 151\n",
            "counter:  92\n",
            "episode: 92/500, score: 138.0, e: 0.0009954703940636294, perturb: [-0.47], reward: 1, re_l_rwd: 1.0 time: 137\n",
            "counter:  93\n",
            "episode: 93/500, score: 155.0, e: 0.0009954703940636294, perturb: [-0.47], reward: 1, re_l_rwd: 1.0 time: 154\n",
            "counter:  94\n",
            "episode: 94/500, score: 210.0, e: 0.0009954703940636294, perturb: [0.47], reward: 0.06000000000000005, re_l_rwd: 1.0 time: 209\n",
            "counter:  95\n",
            "episode: 95/500, score: 139.0, e: 0.0009954703940636294, perturb: [0.47], reward: 0.06000000000000005, re_l_rwd: 1.0 time: 138\n",
            "counter:  96\n",
            "episode: 96/500, score: 39.0, e: 0.0009954703940636294, perturb: [-0.47], reward: 1, re_l_rwd: 1.0 time: 38\n",
            "counter:  97\n",
            "episode: 97/500, score: 179.0, e: 0.0009954703940636294, perturb: [-0.39323576], reward: 1, re_l_rwd: 1.0 time: 178\n",
            "counter:  98\n",
            "episode: 98/500, score: 161.0, e: 0.0009954703940636294, perturb: [0.28692299], reward: 0.4261540147685301, re_l_rwd: 1.0 time: 160\n",
            "counter:  99\n",
            "episode: 99/500, score: 191.0, e: 0.0009954703940636294, perturb: [0.47], reward: 0.06000000000000005, re_l_rwd: 1.0 time: 190\n",
            "counter:  100\n",
            "episode: 100/500, score: 196.0, e: 0.0009954703940636294, perturb: [-0.47], reward: 1, re_l_rwd: 1.0 time: 195\n",
            "counter:  101\n",
            "episode: 101/500, score: 178.0, e: 0.0009954703940636294, perturb: [0.47], reward: 0.06000000000000005, re_l_rwd: 1.0 time: 177\n",
            "counter:  102\n",
            "episode: 102/500, score: 210.0, e: 0.0009954703940636294, perturb: [-0.19555734], reward: 1, re_l_rwd: 1.0 time: 209\n",
            "counter:  103\n",
            "episode: 103/500, score: 170.0, e: 0.0009954703940636294, perturb: [0.47], reward: 0.06000000000000005, re_l_rwd: 1.0 time: 169\n",
            "counter:  104\n",
            "episode: 104/500, score: 152.0, e: 0.0009954703940636294, perturb: [0.47], reward: 0.06000000000000005, re_l_rwd: 1.0 time: 151\n",
            "counter:  105\n",
            "episode: 105/500, score: 152.0, e: 0.0009954703940636294, perturb: [-0.47], reward: 1, re_l_rwd: 1.0 time: 151\n",
            "counter:  106\n",
            "episode: 106/500, score: 158.0, e: 0.0009954703940636294, perturb: [-0.47], reward: 1, re_l_rwd: 1.0 time: 157\n",
            "counter:  107\n",
            "episode: 107/500, score: 172.0, e: 0.0009954703940636294, perturb: [0.18999925], reward: 0.6200015006501733, re_l_rwd: 1.0 time: 171\n",
            "counter:  108\n",
            "episode: 108/500, score: 170.0, e: 0.0009954703940636294, perturb: [-0.47], reward: 1, re_l_rwd: 1.0 time: 169\n",
            "counter:  109\n",
            "episode: 109/500, score: 171.0, e: 0.0009954703940636294, perturb: [0.27454305], reward: 0.45091389642975155, re_l_rwd: 1.0 time: 170\n",
            "counter:  110\n",
            "episode: 110/500, score: 202.0, e: 0.0009954703940636294, perturb: [0.46147655], reward: 0.07704690585085472, re_l_rwd: 1.0 time: 201\n",
            "counter:  111\n",
            "episode: 111/500, score: 210.0, e: 0.0009954703940636294, perturb: [-0.1040081], reward: 1, re_l_rwd: 1.0 time: 209\n",
            "counter:  112\n",
            "episode: 112/500, score: 210.0, e: 0.0009954703940636294, perturb: [0.47], reward: 0.06000000000000005, re_l_rwd: 1.0 time: 209\n",
            "counter:  113\n",
            "episode: 113/500, score: 179.0, e: 0.0009954703940636294, perturb: [-0.47], reward: 1, re_l_rwd: 1.0 time: 178\n",
            "counter:  114\n",
            "episode: 114/500, score: 77.0, e: 0.0009954703940636294, perturb: [0.47], reward: 0.06000000000000005, re_l_rwd: 1.0 time: 76\n",
            "counter:  115\n",
            "episode: 115/500, score: 210.0, e: 0.0009954703940636294, perturb: [-0.47], reward: 1, re_l_rwd: 1.0 time: 209\n",
            "counter:  116\n",
            "episode: 116/500, score: 207.0, e: 0.0009954703940636294, perturb: [0.47], reward: 0.06000000000000005, re_l_rwd: 1.0 time: 206\n",
            "counter:  117\n",
            "episode: 117/500, score: 168.0, e: 0.0009954703940636294, perturb: [0.47], reward: 0.06000000000000005, re_l_rwd: 1.0 time: 167\n",
            "counter:  118\n",
            "episode: 118/500, score: 157.0, e: 0.0009954703940636294, perturb: [-0.47], reward: 1, re_l_rwd: 1.0 time: 156\n",
            "counter:  119\n",
            "episode: 119/500, score: 210.0, e: 0.0009954703940636294, perturb: [0.09527046], reward: 0.8094590883777408, re_l_rwd: 1.0 time: 209\n",
            "counter:  120\n",
            "episode: 120/500, score: 174.0, e: 0.0009954703940636294, perturb: [0.47], reward: 0.06000000000000005, re_l_rwd: 1.0 time: 173\n",
            "counter:  121\n",
            "episode: 121/500, score: 162.0, e: 0.0009954703940636294, perturb: [0.47], reward: 0.06000000000000005, re_l_rwd: 1.0 time: 161\n",
            "counter:  122\n",
            "episode: 122/500, score: 204.0, e: 0.0009954703940636294, perturb: [-0.2947924], reward: 1, re_l_rwd: 1.0 time: 203\n",
            "counter:  123\n",
            "episode: 123/500, score: 164.0, e: 0.0009954703940636294, perturb: [-0.21618045], reward: 1, re_l_rwd: 1.0 time: 163\n",
            "counter:  124\n",
            "episode: 124/500, score: 170.0, e: 0.0009954703940636294, perturb: [0.47], reward: 0.06000000000000005, re_l_rwd: 1.0 time: 169\n",
            "counter:  125\n",
            "episode: 125/500, score: 180.0, e: 0.0009954703940636294, perturb: [0.47], reward: 0.06000000000000005, re_l_rwd: 1.0 time: 179\n",
            "counter:  126\n",
            "episode: 126/500, score: 167.0, e: 0.0009954703940636294, perturb: [0.47], reward: 0.06000000000000005, re_l_rwd: 1.0 time: 166\n",
            "counter:  127\n",
            "episode: 127/500, score: 142.0, e: 0.0009954703940636294, perturb: [0.47], reward: 0.06000000000000005, re_l_rwd: 1.0 time: 141\n",
            "counter:  128\n",
            "episode: 128/500, score: 138.0, e: 0.0009954703940636294, perturb: [0.47], reward: 0.06000000000000005, re_l_rwd: 1.0 time: 137\n",
            "counter:  129\n",
            "episode: 129/500, score: 166.0, e: 0.0009954703940636294, perturb: [0.3016723], reward: 0.396655403099644, re_l_rwd: 1.0 time: 165\n",
            "counter:  130\n",
            "episode: 130/500, score: 199.0, e: 0.0009954703940636294, perturb: [-0.47], reward: 1, re_l_rwd: 1.0 time: 198\n",
            "counter:  131\n",
            "episode: 131/500, score: 75.0, e: 0.0009954703940636294, perturb: [-0.47], reward: 1, re_l_rwd: 1.0 time: 74\n",
            "counter:  132\n",
            "episode: 132/500, score: 88.0, e: 0.0009954703940636294, perturb: [0.47], reward: 0.06000000000000005, re_l_rwd: 1.0 time: 87\n",
            "counter:  133\n",
            "episode: 133/500, score: 101.0, e: 0.0009954703940636294, perturb: [0.40650104], reward: 0.18699792403004012, re_l_rwd: 1.0 time: 100\n",
            "counter:  134\n",
            "episode: 134/500, score: 88.0, e: 0.0009954703940636294, perturb: [-0.25787573], reward: 1, re_l_rwd: 1.0 time: 87\n",
            "counter:  135\n",
            "episode: 135/500, score: 130.0, e: 0.0009954703940636294, perturb: [0.47], reward: 0.06000000000000005, re_l_rwd: 1.0 time: 129\n",
            "counter:  136\n",
            "episode: 136/500, score: 113.0, e: 0.0009954703940636294, perturb: [0.28558395], reward: 0.4288320924312934, re_l_rwd: 1.0 time: 112\n",
            "counter:  137\n",
            "episode: 137/500, score: 129.0, e: 0.0009954703940636294, perturb: [0.47], reward: 0.06000000000000005, re_l_rwd: 1.0 time: 128\n",
            "counter:  138\n",
            "episode: 138/500, score: 100.0, e: 0.0009954703940636294, perturb: [0.18514595], reward: 0.6297080953672698, re_l_rwd: 1.0 time: 99\n",
            "counter:  139\n",
            "episode: 139/500, score: 84.0, e: 0.0009954703940636294, perturb: [-0.3350413], reward: 1, re_l_rwd: 1.0 time: 83\n",
            "counter:  140\n",
            "episode: 140/500, score: 9.0, e: 0.0009954703940636294, perturb: [0.47], reward: 0.06000000000000005, re_l_rwd: 1.0 time: 8\n",
            "counter:  141\n",
            "episode: 141/500, score: 11.0, e: 0.0009954703940636294, perturb: [-0.47], reward: 1, re_l_rwd: 1.0 time: 10\n",
            "counter:  142\n",
            "episode: 142/500, score: 12.0, e: 0.0009954703940636294, perturb: [0.33050025], reward: 0.3389994937054618, re_l_rwd: 1.0 time: 11\n",
            "counter:  143\n",
            "episode: 143/500, score: 168.0, e: 0.0009954703940636294, perturb: [-0.47], reward: 1, re_l_rwd: 1.0 time: 167\n",
            "counter:  144\n",
            "episode: 144/500, score: 210.0, e: 0.0009954703940636294, perturb: [-0.47], reward: 1, re_l_rwd: 1.0 time: 209\n",
            "counter:  145\n",
            "episode: 145/500, score: 194.0, e: 0.0009954703940636294, perturb: [0.36921582], reward: 0.26156836861185984, re_l_rwd: 1.0 time: 193\n",
            "counter:  146\n",
            "episode: 146/500, score: 210.0, e: 0.0009954703940636294, perturb: [0.47], reward: 0.06000000000000005, re_l_rwd: 1.0 time: 209\n",
            "counter:  147\n",
            "episode: 147/500, score: 210.0, e: 0.0009954703940636294, perturb: [-0.39699058], reward: 1, re_l_rwd: 1.0 time: 209\n"
          ],
          "name": "stdout"
        }
      ]
    },
    {
      "cell_type": "code",
      "metadata": {
        "colab": {
          "background_save": true
        },
        "id": "A7hTFIJxAjo3",
        "outputId": "7ce6f323-1b16-4dbd-d0e6-a8c4237a57c8"
      },
      "source": [
        "import matplotlib.pyplot as plt\n",
        "print(len(adversary_to_plot))\n",
        "plt.plot(perturb_list)\n",
        "plt.plot(adversary_to_plot)\n",
        "\n",
        "#adversary_to_plot"
      ],
      "execution_count": null,
      "outputs": [
        {
          "output_type": "stream",
          "text": [
            "148\n"
          ],
          "name": "stdout"
        },
        {
          "output_type": "execute_result",
          "data": {
            "text/plain": [
              "[<matplotlib.lines.Line2D at 0x7f1b4c75d5d0>]"
            ]
          },
          "metadata": {
            "tags": []
          },
          "execution_count": 0
        },
        {
          "output_type": "display_data",
          "data": {
            "image/png": "[encoded data removed]",
            "text/plain": [
              "<Figure size 432x288 with 1 Axes>"
            ]
          },
          "metadata": {
            "tags": []
          }
        }
      ]
    },
    {
      "cell_type": "code",
      "metadata": {
        "colab": {
          "background_save": true
        },
        "id": "dT5Ns74-nox3",
        "outputId": "eeec80de-531f-4dcc-9aca-9afcf90c2a4b"
      },
      "source": [
        "#Test the agent that was trained\n",
        "#   In this section we ALWAYS use exploit don't train any more\n",
        "for e_test in range(TEST_Episodes):\n",
        "    state = envCartPole.reset()\n",
        "    state = np.reshape(state, [1, nS])\n",
        "    tot_rewards = 0\n",
        "    for t_test in range(210):\n",
        "        action = dqn.test_action(state)\n",
        "        nstate, reward, done, _ = envCartPole.step(action)\n",
        "        nstate = np.reshape( nstate, [1, nS])\n",
        "        tot_rewards += reward\n",
        "        #DON'T STORE ANYTHING DURING TESTING\n",
        "        state = nstate\n",
        "        #done: CartPole fell. \n",
        "        #t_test == 209: CartPole stayed upright\n",
        "        if done or t_test == 209: \n",
        "            rewards.append(tot_rewards)\n",
        "            epsilons.append(0) #We are doing full exploit\n",
        "            print(\"episode: {}/{}, score: {}, e: {}\"\n",
        "                  .format(e_test, TEST_Episodes, tot_rewards, 0))\n",
        "            break;"
      ],
      "execution_count": null,
      "outputs": [
        {
          "output_type": "stream",
          "text": [
            "episode: 0/353, score: 210.0, e: 0\n",
            "episode: 1/353, score: 210.0, e: 0\n",
            "episode: 2/353, score: 210.0, e: 0\n",
            "episode: 3/353, score: 210.0, e: 0\n",
            "episode: 4/353, score: 210.0, e: 0\n",
            "episode: 5/353, score: 210.0, e: 0\n",
            "episode: 6/353, score: 210.0, e: 0\n",
            "episode: 7/353, score: 210.0, e: 0\n",
            "episode: 8/353, score: 210.0, e: 0\n",
            "episode: 9/353, score: 210.0, e: 0\n",
            "episode: 10/353, score: 210.0, e: 0\n",
            "episode: 11/353, score: 210.0, e: 0\n",
            "episode: 12/353, score: 210.0, e: 0\n",
            "episode: 13/353, score: 210.0, e: 0\n",
            "episode: 14/353, score: 210.0, e: 0\n",
            "episode: 15/353, score: 210.0, e: 0\n",
            "episode: 16/353, score: 210.0, e: 0\n",
            "episode: 17/353, score: 210.0, e: 0\n",
            "episode: 18/353, score: 210.0, e: 0\n",
            "episode: 19/353, score: 210.0, e: 0\n",
            "episode: 20/353, score: 210.0, e: 0\n",
            "episode: 21/353, score: 210.0, e: 0\n",
            "episode: 22/353, score: 210.0, e: 0\n",
            "episode: 23/353, score: 210.0, e: 0\n",
            "episode: 24/353, score: 210.0, e: 0\n",
            "episode: 25/353, score: 210.0, e: 0\n",
            "episode: 26/353, score: 210.0, e: 0\n",
            "episode: 27/353, score: 210.0, e: 0\n",
            "episode: 28/353, score: 210.0, e: 0\n",
            "episode: 29/353, score: 210.0, e: 0\n",
            "episode: 30/353, score: 210.0, e: 0\n",
            "episode: 31/353, score: 210.0, e: 0\n",
            "episode: 32/353, score: 210.0, e: 0\n",
            "episode: 33/353, score: 210.0, e: 0\n",
            "episode: 34/353, score: 210.0, e: 0\n",
            "episode: 35/353, score: 210.0, e: 0\n",
            "episode: 36/353, score: 210.0, e: 0\n",
            "episode: 37/353, score: 210.0, e: 0\n",
            "episode: 38/353, score: 210.0, e: 0\n",
            "episode: 39/353, score: 210.0, e: 0\n",
            "episode: 40/353, score: 210.0, e: 0\n",
            "episode: 41/353, score: 210.0, e: 0\n",
            "episode: 42/353, score: 210.0, e: 0\n",
            "episode: 43/353, score: 210.0, e: 0\n",
            "episode: 44/353, score: 210.0, e: 0\n",
            "episode: 45/353, score: 210.0, e: 0\n",
            "episode: 46/353, score: 210.0, e: 0\n",
            "episode: 47/353, score: 210.0, e: 0\n",
            "episode: 48/353, score: 210.0, e: 0\n",
            "episode: 49/353, score: 210.0, e: 0\n",
            "episode: 50/353, score: 210.0, e: 0\n",
            "episode: 51/353, score: 210.0, e: 0\n",
            "episode: 52/353, score: 210.0, e: 0\n",
            "episode: 53/353, score: 210.0, e: 0\n",
            "episode: 54/353, score: 210.0, e: 0\n",
            "episode: 55/353, score: 210.0, e: 0\n",
            "episode: 56/353, score: 210.0, e: 0\n",
            "episode: 57/353, score: 210.0, e: 0\n",
            "episode: 58/353, score: 210.0, e: 0\n",
            "episode: 59/353, score: 210.0, e: 0\n",
            "episode: 60/353, score: 210.0, e: 0\n",
            "episode: 61/353, score: 210.0, e: 0\n",
            "episode: 62/353, score: 210.0, e: 0\n",
            "episode: 63/353, score: 210.0, e: 0\n",
            "episode: 64/353, score: 210.0, e: 0\n",
            "episode: 65/353, score: 210.0, e: 0\n",
            "episode: 66/353, score: 210.0, e: 0\n",
            "episode: 67/353, score: 210.0, e: 0\n",
            "episode: 68/353, score: 210.0, e: 0\n",
            "episode: 69/353, score: 210.0, e: 0\n",
            "episode: 70/353, score: 210.0, e: 0\n",
            "episode: 71/353, score: 210.0, e: 0\n",
            "episode: 72/353, score: 210.0, e: 0\n",
            "episode: 73/353, score: 210.0, e: 0\n",
            "episode: 74/353, score: 210.0, e: 0\n",
            "episode: 75/353, score: 210.0, e: 0\n",
            "episode: 76/353, score: 210.0, e: 0\n",
            "episode: 77/353, score: 210.0, e: 0\n",
            "episode: 78/353, score: 210.0, e: 0\n",
            "episode: 79/353, score: 210.0, e: 0\n",
            "episode: 80/353, score: 210.0, e: 0\n",
            "episode: 81/353, score: 210.0, e: 0\n",
            "episode: 82/353, score: 210.0, e: 0\n",
            "episode: 83/353, score: 210.0, e: 0\n",
            "episode: 84/353, score: 210.0, e: 0\n",
            "episode: 85/353, score: 210.0, e: 0\n",
            "episode: 86/353, score: 210.0, e: 0\n",
            "episode: 87/353, score: 210.0, e: 0\n",
            "episode: 88/353, score: 210.0, e: 0\n",
            "episode: 89/353, score: 210.0, e: 0\n",
            "episode: 90/353, score: 210.0, e: 0\n",
            "episode: 91/353, score: 210.0, e: 0\n",
            "episode: 92/353, score: 210.0, e: 0\n",
            "episode: 93/353, score: 210.0, e: 0\n",
            "episode: 94/353, score: 210.0, e: 0\n",
            "episode: 95/353, score: 210.0, e: 0\n",
            "episode: 96/353, score: 210.0, e: 0\n",
            "episode: 97/353, score: 210.0, e: 0\n",
            "episode: 98/353, score: 210.0, e: 0\n",
            "episode: 99/353, score: 210.0, e: 0\n",
            "episode: 100/353, score: 210.0, e: 0\n",
            "episode: 101/353, score: 210.0, e: 0\n",
            "episode: 102/353, score: 210.0, e: 0\n",
            "episode: 103/353, score: 210.0, e: 0\n",
            "episode: 104/353, score: 210.0, e: 0\n",
            "episode: 105/353, score: 210.0, e: 0\n",
            "episode: 106/353, score: 210.0, e: 0\n",
            "episode: 107/353, score: 210.0, e: 0\n",
            "episode: 108/353, score: 210.0, e: 0\n",
            "episode: 109/353, score: 210.0, e: 0\n",
            "episode: 110/353, score: 210.0, e: 0\n",
            "episode: 111/353, score: 210.0, e: 0\n",
            "episode: 112/353, score: 210.0, e: 0\n",
            "episode: 113/353, score: 210.0, e: 0\n",
            "episode: 114/353, score: 210.0, e: 0\n",
            "episode: 115/353, score: 210.0, e: 0\n",
            "episode: 116/353, score: 210.0, e: 0\n",
            "episode: 117/353, score: 210.0, e: 0\n",
            "episode: 118/353, score: 210.0, e: 0\n",
            "episode: 119/353, score: 210.0, e: 0\n",
            "episode: 120/353, score: 210.0, e: 0\n",
            "episode: 121/353, score: 210.0, e: 0\n",
            "episode: 122/353, score: 210.0, e: 0\n",
            "episode: 123/353, score: 210.0, e: 0\n",
            "episode: 124/353, score: 210.0, e: 0\n",
            "episode: 125/353, score: 210.0, e: 0\n",
            "episode: 126/353, score: 210.0, e: 0\n",
            "episode: 127/353, score: 210.0, e: 0\n",
            "episode: 128/353, score: 210.0, e: 0\n",
            "episode: 129/353, score: 210.0, e: 0\n",
            "episode: 130/353, score: 210.0, e: 0\n",
            "episode: 131/353, score: 210.0, e: 0\n",
            "episode: 132/353, score: 210.0, e: 0\n",
            "episode: 133/353, score: 210.0, e: 0\n",
            "episode: 134/353, score: 210.0, e: 0\n",
            "episode: 135/353, score: 210.0, e: 0\n",
            "episode: 136/353, score: 210.0, e: 0\n",
            "episode: 137/353, score: 210.0, e: 0\n",
            "episode: 138/353, score: 210.0, e: 0\n",
            "episode: 139/353, score: 210.0, e: 0\n",
            "episode: 140/353, score: 210.0, e: 0\n",
            "episode: 141/353, score: 210.0, e: 0\n",
            "episode: 142/353, score: 210.0, e: 0\n",
            "episode: 143/353, score: 210.0, e: 0\n",
            "episode: 144/353, score: 210.0, e: 0\n",
            "episode: 145/353, score: 210.0, e: 0\n",
            "episode: 146/353, score: 210.0, e: 0\n",
            "episode: 147/353, score: 210.0, e: 0\n",
            "episode: 148/353, score: 210.0, e: 0\n",
            "episode: 149/353, score: 210.0, e: 0\n",
            "episode: 150/353, score: 210.0, e: 0\n",
            "episode: 151/353, score: 210.0, e: 0\n",
            "episode: 152/353, score: 210.0, e: 0\n",
            "episode: 153/353, score: 210.0, e: 0\n",
            "episode: 154/353, score: 210.0, e: 0\n",
            "episode: 155/353, score: 210.0, e: 0\n",
            "episode: 156/353, score: 210.0, e: 0\n",
            "episode: 157/353, score: 210.0, e: 0\n",
            "episode: 158/353, score: 210.0, e: 0\n",
            "episode: 159/353, score: 210.0, e: 0\n",
            "episode: 160/353, score: 210.0, e: 0\n",
            "episode: 161/353, score: 210.0, e: 0\n",
            "episode: 162/353, score: 210.0, e: 0\n",
            "episode: 163/353, score: 210.0, e: 0\n",
            "episode: 164/353, score: 210.0, e: 0\n",
            "episode: 165/353, score: 210.0, e: 0\n",
            "episode: 166/353, score: 210.0, e: 0\n",
            "episode: 167/353, score: 210.0, e: 0\n",
            "episode: 168/353, score: 210.0, e: 0\n",
            "episode: 169/353, score: 210.0, e: 0\n",
            "episode: 170/353, score: 210.0, e: 0\n",
            "episode: 171/353, score: 210.0, e: 0\n",
            "episode: 172/353, score: 210.0, e: 0\n",
            "episode: 173/353, score: 210.0, e: 0\n",
            "episode: 174/353, score: 210.0, e: 0\n",
            "episode: 175/353, score: 210.0, e: 0\n",
            "episode: 176/353, score: 210.0, e: 0\n",
            "episode: 177/353, score: 210.0, e: 0\n",
            "episode: 178/353, score: 210.0, e: 0\n",
            "episode: 179/353, score: 210.0, e: 0\n",
            "episode: 180/353, score: 210.0, e: 0\n",
            "episode: 181/353, score: 210.0, e: 0\n",
            "episode: 182/353, score: 210.0, e: 0\n",
            "episode: 183/353, score: 210.0, e: 0\n",
            "episode: 184/353, score: 210.0, e: 0\n",
            "episode: 185/353, score: 210.0, e: 0\n",
            "episode: 186/353, score: 210.0, e: 0\n",
            "episode: 187/353, score: 210.0, e: 0\n",
            "episode: 188/353, score: 210.0, e: 0\n",
            "episode: 189/353, score: 210.0, e: 0\n",
            "episode: 190/353, score: 210.0, e: 0\n",
            "episode: 191/353, score: 210.0, e: 0\n",
            "episode: 192/353, score: 210.0, e: 0\n",
            "episode: 193/353, score: 210.0, e: 0\n",
            "episode: 194/353, score: 210.0, e: 0\n",
            "episode: 195/353, score: 210.0, e: 0\n",
            "episode: 196/353, score: 210.0, e: 0\n",
            "episode: 197/353, score: 210.0, e: 0\n",
            "episode: 198/353, score: 210.0, e: 0\n",
            "episode: 199/353, score: 210.0, e: 0\n",
            "episode: 200/353, score: 210.0, e: 0\n",
            "episode: 201/353, score: 210.0, e: 0\n",
            "episode: 202/353, score: 210.0, e: 0\n",
            "episode: 203/353, score: 210.0, e: 0\n",
            "episode: 204/353, score: 210.0, e: 0\n",
            "episode: 205/353, score: 210.0, e: 0\n",
            "episode: 206/353, score: 210.0, e: 0\n",
            "episode: 207/353, score: 210.0, e: 0\n",
            "episode: 208/353, score: 210.0, e: 0\n",
            "episode: 209/353, score: 210.0, e: 0\n",
            "episode: 210/353, score: 210.0, e: 0\n",
            "episode: 211/353, score: 210.0, e: 0\n",
            "episode: 212/353, score: 210.0, e: 0\n",
            "episode: 213/353, score: 210.0, e: 0\n",
            "episode: 214/353, score: 210.0, e: 0\n",
            "episode: 215/353, score: 210.0, e: 0\n",
            "episode: 216/353, score: 210.0, e: 0\n",
            "episode: 217/353, score: 210.0, e: 0\n",
            "episode: 218/353, score: 210.0, e: 0\n",
            "episode: 219/353, score: 210.0, e: 0\n",
            "episode: 220/353, score: 210.0, e: 0\n",
            "episode: 221/353, score: 210.0, e: 0\n",
            "episode: 222/353, score: 210.0, e: 0\n",
            "episode: 223/353, score: 210.0, e: 0\n",
            "episode: 224/353, score: 210.0, e: 0\n",
            "episode: 225/353, score: 210.0, e: 0\n",
            "episode: 226/353, score: 210.0, e: 0\n",
            "episode: 227/353, score: 210.0, e: 0\n",
            "episode: 228/353, score: 210.0, e: 0\n",
            "episode: 229/353, score: 210.0, e: 0\n",
            "episode: 230/353, score: 210.0, e: 0\n",
            "episode: 231/353, score: 210.0, e: 0\n",
            "episode: 232/353, score: 210.0, e: 0\n",
            "episode: 233/353, score: 210.0, e: 0\n",
            "episode: 234/353, score: 210.0, e: 0\n",
            "episode: 235/353, score: 210.0, e: 0\n",
            "episode: 236/353, score: 210.0, e: 0\n",
            "episode: 237/353, score: 210.0, e: 0\n",
            "episode: 238/353, score: 210.0, e: 0\n",
            "episode: 239/353, score: 210.0, e: 0\n",
            "episode: 240/353, score: 210.0, e: 0\n",
            "episode: 241/353, score: 210.0, e: 0\n",
            "episode: 242/353, score: 210.0, e: 0\n",
            "episode: 243/353, score: 210.0, e: 0\n",
            "episode: 244/353, score: 210.0, e: 0\n",
            "episode: 245/353, score: 210.0, e: 0\n",
            "episode: 246/353, score: 210.0, e: 0\n",
            "episode: 247/353, score: 210.0, e: 0\n",
            "episode: 248/353, score: 210.0, e: 0\n",
            "episode: 249/353, score: 210.0, e: 0\n",
            "episode: 250/353, score: 210.0, e: 0\n",
            "episode: 251/353, score: 210.0, e: 0\n",
            "episode: 252/353, score: 210.0, e: 0\n",
            "episode: 253/353, score: 210.0, e: 0\n",
            "episode: 254/353, score: 210.0, e: 0\n",
            "episode: 255/353, score: 210.0, e: 0\n",
            "episode: 256/353, score: 210.0, e: 0\n",
            "episode: 257/353, score: 210.0, e: 0\n",
            "episode: 258/353, score: 210.0, e: 0\n",
            "episode: 259/353, score: 210.0, e: 0\n",
            "episode: 260/353, score: 210.0, e: 0\n",
            "episode: 261/353, score: 210.0, e: 0\n",
            "episode: 262/353, score: 210.0, e: 0\n",
            "episode: 263/353, score: 210.0, e: 0\n",
            "episode: 264/353, score: 210.0, e: 0\n",
            "episode: 265/353, score: 210.0, e: 0\n",
            "episode: 266/353, score: 210.0, e: 0\n",
            "episode: 267/353, score: 210.0, e: 0\n",
            "episode: 268/353, score: 210.0, e: 0\n",
            "episode: 269/353, score: 210.0, e: 0\n",
            "episode: 270/353, score: 210.0, e: 0\n",
            "episode: 271/353, score: 210.0, e: 0\n",
            "episode: 272/353, score: 210.0, e: 0\n",
            "episode: 273/353, score: 210.0, e: 0\n",
            "episode: 274/353, score: 210.0, e: 0\n",
            "episode: 275/353, score: 210.0, e: 0\n",
            "episode: 276/353, score: 210.0, e: 0\n",
            "episode: 277/353, score: 210.0, e: 0\n",
            "episode: 278/353, score: 210.0, e: 0\n",
            "episode: 279/353, score: 210.0, e: 0\n",
            "episode: 280/353, score: 210.0, e: 0\n",
            "episode: 281/353, score: 210.0, e: 0\n",
            "episode: 282/353, score: 210.0, e: 0\n",
            "episode: 283/353, score: 210.0, e: 0\n",
            "episode: 284/353, score: 210.0, e: 0\n",
            "episode: 285/353, score: 210.0, e: 0\n",
            "episode: 286/353, score: 210.0, e: 0\n",
            "episode: 287/353, score: 210.0, e: 0\n",
            "episode: 288/353, score: 210.0, e: 0\n",
            "episode: 289/353, score: 210.0, e: 0\n",
            "episode: 290/353, score: 210.0, e: 0\n",
            "episode: 291/353, score: 210.0, e: 0\n",
            "episode: 292/353, score: 210.0, e: 0\n",
            "episode: 293/353, score: 210.0, e: 0\n",
            "episode: 294/353, score: 210.0, e: 0\n",
            "episode: 295/353, score: 210.0, e: 0\n",
            "episode: 296/353, score: 210.0, e: 0\n",
            "episode: 297/353, score: 210.0, e: 0\n",
            "episode: 298/353, score: 210.0, e: 0\n",
            "episode: 299/353, score: 210.0, e: 0\n",
            "episode: 300/353, score: 210.0, e: 0\n",
            "episode: 301/353, score: 210.0, e: 0\n",
            "episode: 302/353, score: 210.0, e: 0\n",
            "episode: 303/353, score: 210.0, e: 0\n",
            "episode: 304/353, score: 210.0, e: 0\n",
            "episode: 305/353, score: 210.0, e: 0\n",
            "episode: 306/353, score: 210.0, e: 0\n",
            "episode: 307/353, score: 210.0, e: 0\n",
            "episode: 308/353, score: 210.0, e: 0\n",
            "episode: 309/353, score: 210.0, e: 0\n",
            "episode: 310/353, score: 210.0, e: 0\n",
            "episode: 311/353, score: 210.0, e: 0\n",
            "episode: 312/353, score: 210.0, e: 0\n",
            "episode: 313/353, score: 210.0, e: 0\n",
            "episode: 314/353, score: 210.0, e: 0\n",
            "episode: 315/353, score: 210.0, e: 0\n",
            "episode: 316/353, score: 210.0, e: 0\n",
            "episode: 317/353, score: 210.0, e: 0\n",
            "episode: 318/353, score: 210.0, e: 0\n",
            "episode: 319/353, score: 210.0, e: 0\n",
            "episode: 320/353, score: 210.0, e: 0\n",
            "episode: 321/353, score: 210.0, e: 0\n",
            "episode: 322/353, score: 210.0, e: 0\n",
            "episode: 323/353, score: 210.0, e: 0\n",
            "episode: 324/353, score: 210.0, e: 0\n",
            "episode: 325/353, score: 210.0, e: 0\n",
            "episode: 326/353, score: 210.0, e: 0\n",
            "episode: 327/353, score: 210.0, e: 0\n",
            "episode: 328/353, score: 210.0, e: 0\n",
            "episode: 329/353, score: 210.0, e: 0\n",
            "episode: 330/353, score: 210.0, e: 0\n",
            "episode: 331/353, score: 210.0, e: 0\n",
            "episode: 332/353, score: 210.0, e: 0\n",
            "episode: 333/353, score: 210.0, e: 0\n",
            "episode: 334/353, score: 210.0, e: 0\n",
            "episode: 335/353, score: 210.0, e: 0\n",
            "episode: 336/353, score: 210.0, e: 0\n",
            "episode: 337/353, score: 210.0, e: 0\n",
            "episode: 338/353, score: 210.0, e: 0\n",
            "episode: 339/353, score: 210.0, e: 0\n",
            "episode: 340/353, score: 210.0, e: 0\n",
            "episode: 341/353, score: 210.0, e: 0\n",
            "episode: 342/353, score: 210.0, e: 0\n",
            "episode: 343/353, score: 210.0, e: 0\n",
            "episode: 344/353, score: 210.0, e: 0\n",
            "episode: 345/353, score: 210.0, e: 0\n",
            "episode: 346/353, score: 210.0, e: 0\n",
            "episode: 347/353, score: 210.0, e: 0\n",
            "episode: 348/353, score: 210.0, e: 0\n",
            "episode: 349/353, score: 210.0, e: 0\n",
            "episode: 350/353, score: 210.0, e: 0\n",
            "episode: 351/353, score: 210.0, e: 0\n",
            "episode: 352/353, score: 210.0, e: 0\n"
          ],
          "name": "stdout"
        }
      ]
    },
    {
      "cell_type": "markdown",
      "metadata": {
        "id": "ZYldJ45lnox8"
      },
      "source": [
        "**Results**  \n",
        "Here is a graph of the results. If everything was done correctly you should see the rewards over the red line.  \n",
        "\n",
        "Black: This is the 100 episode rolling average  \n",
        "Red: This is the \"solved\" line at 195  \n",
        "Blue: This is the reward for each episode  \n",
        "Green: This is the value of epsilon scaled by 200  \n",
        "Yellow: This is where the tests started."
      ]
    },
    {
      "cell_type": "code",
      "metadata": {
        "colab": {
          "background_save": true
        },
        "id": "u1wgi9Hmnox8",
        "outputId": "53db7acc-d1b0-4908-d366-d5d6f299093d"
      },
      "source": [
        "import numpy as np\n",
        "rolling_average = np.convolve(rewards, np.ones(100)/100)\n",
        "\n",
        "plt.plot(rewards)\n",
        "plt.plot(rolling_average, color='black')\n",
        "plt.axhline(y=195, color='r', linestyle='-') #Solved Line\n",
        "#Scale Epsilon (0.001 - 1.0) to match reward (0 - 200) range\n",
        "eps_graph = [200*x for x in epsilons]\n",
        "plt.plot(eps_graph, color='g', linestyle='-')\n",
        "#Plot the line where TESTING begins\n",
        "plt.axvline(x=TRAIN_END, color='y', linestyle='-')\n",
        "plt.xlim( (0,EPISODES) )\n",
        "plt.ylim( (0,220) )\n",
        "plt.show()\n",
        "\n",
        "\n",
        "envCartPole.close()"
      ],
      "execution_count": null,
      "outputs": [
        {
          "output_type": "display_data",
          "data": {
            "image/png": "[encoded data removed]",
            "text/plain": [
              "<Figure size 432x288 with 1 Axes>"
            ]
          },
          "metadata": {
            "tags": []
          }
        }
      ]
    },
    {
      "cell_type": "code",
      "metadata": {
        "colab": {
          "background_save": true
        },
        "id": "ZbenxUlv5ZoC"
      },
      "source": [
        "# from google.colab import drive\n",
        "# drive.mount('/gdrive')\n",
        "# %cd /content/My Drive\n",
        "# #/Surreal_Entanglement"
      ],
      "execution_count": null,
      "outputs": []
    },
    {
      "cell_type": "code",
      "metadata": {
        "id": "oPbemE_dOm5m"
      },
      "source": [
        "from google.colab import drive\n",
        "drive.mount('/content/drive')\n",
        "%cd /content/drive/My Drive/Starcraft"
      ],
      "execution_count": null,
      "outputs": []
    },
    {
      "cell_type": "code",
      "metadata": {
        "id": "prausrkR4PDl"
      },
      "source": [
        "#pickle results so we can compare results of multiple runs\n",
        "import pickle\n",
        "pickle.dump( rewards, open(\"dqn_purturbed_rewards_v5.txt\", \"wb\" ) )\n",
        "pickle.dump( rolling_average, open(\"dqn_purturbed_rolling_average_v5.txt\", \"wb\" ) )"
      ],
      "execution_count": null,
      "outputs": []
    },
    {
      "cell_type": "code",
      "metadata": {
        "id": "dqI6-Z39SE5_"
      },
      "source": [
        "#load pickled results\n",
        "loaded_rewards = pickle.load(open(\"dqn_purturbed_rewards_v5.txt\", \"rb\" ))\n",
        "print(loaded_rewards)\n",
        "\n",
        "loaded_moving_average = pickle.load(open(\"dqn_purturbed_rolling_average_v5.txt\", \"rb\" ))\n",
        "print(loaded_moving_average)"
      ],
      "execution_count": null,
      "outputs": []
    },
    {
      "cell_type": "code",
      "metadata": {
        "id": "LpuIMPaTCxGI"
      },
      "source": [
        "#concatenate pickled results"
      ],
      "execution_count": null,
      "outputs": []
    },
    {
      "cell_type": "code",
      "metadata": {
        "id": "ka9cZlP1C0SB"
      },
      "source": [
        "#"
      ],
      "execution_count": null,
      "outputs": []
    },
    {
      "cell_type": "markdown",
      "metadata": {
        "id": "1K2Pd2fOnoyA"
      },
      "source": [
        "1**Changes**  \n",
        "*hyper parameters*: You can alter alpha, gamma, batch size, and episode length to see what differences the algorithm returns.  \n",
        "*Training End*: You can also change the line where I only check the last 5 runs before switching to testing mode (if len(rewards) > 5 and np.average(rewards[-5:]) > 195:) as that doesn't prove it was solved. The reason I did this was because I wanted to limit the amount of runs I made.  "
      ]
    },
    {
      "cell_type": "markdown",
      "metadata": {
        "id": "kWI2jLUSnoyA"
      },
      "source": [
        "**Conclusion**  \n",
        "This is a Deep Q-Network implementation. There are some changes you can make here and there but it follows the paper. Hopefully, you were able to understand the code as well as make your own version to compare with this one."
      ]
    },
    {
      "cell_type": "markdown",
      "metadata": {
        "collapsed": true,
        "id": "0YfvNUCmnoyB"
      },
      "source": [
        "**Reference**  \n",
        "Mnih, V., Kavukcuoglu, K., Silver, D., Rusu, A. A., Veness, J., Bellemare, M. G., ... & Petersen, S. (2015). *Human-level control through deep reinforcement learning*. Nature, 518(7540), 529"
      ]
    }
  ]
}