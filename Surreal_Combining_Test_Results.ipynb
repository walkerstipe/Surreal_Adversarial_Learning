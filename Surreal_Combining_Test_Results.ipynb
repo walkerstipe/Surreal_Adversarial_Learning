{
  "nbformat": 4,
  "nbformat_minor": 0,
  "metadata": {
    "colab": {
      "name": "Surreal_Combining_Test_Results",
      "provenance": [],
      "collapsed_sections": []
    },
    "kernelspec": {
      "name": "python3",
      "display_name": "Python 3"
    }
  },
  "cells": [
    {
      "cell_type": "code",
      "metadata": {
        "id": "MRjbB7SGZ6f7"
      },
      "source": [
        "#Notebook combining battery of test results for comparison both visually and numerically\n",
        "#3 Algorithms being compared: \n",
        "  #1. Surreal Adversarial Learning\n",
        "  #2. DQN\n",
        "  #3. DQN attacked with random noise\n",
        "\n",
        "#Video series on Surreal Adversarial Learning: https://www.youtube.com/watch?v=gpIJ41IZj_o&list=PLKgB8_r-NpR5YcI1knBLHh7XZeh3ESKvn"
      ],
      "execution_count": null,
      "outputs": []
    },
    {
      "cell_type": "code",
      "metadata": {
        "id": "LXzVcwGrURYP",
        "colab": {
          "base_uri": "https://localhost:8080/"
        },
        "outputId": "b620be7b-b47b-493c-f285-201282bc7ee5"
      },
      "source": [
        "from google.colab import drive\n",
        "drive.mount('/content/gdrive')"
      ],
      "execution_count": null,
      "outputs": [
        {
          "output_type": "stream",
          "text": [
            "Mounted at /content/gdrive\n"
          ],
          "name": "stdout"
        }
      ]
    },
    {
      "cell_type": "code",
      "metadata": {
        "id": "_GW5SqTGUrS-",
        "colab": {
          "base_uri": "https://localhost:8080/"
        },
        "outputId": "0c408b87-f038-4824-d5a6-228daa462bfa"
      },
      "source": [
        "#!cd /content/gdrive/Starcraft\n",
        "!ls"
      ],
      "execution_count": null,
      "outputs": [
        {
          "output_type": "stream",
          "text": [
            "drive  gdrive  sample_data\n"
          ],
          "name": "stdout"
        }
      ]
    },
    {
      "cell_type": "code",
      "metadata": {
        "id": "mD6sHLHLT2o6"
      },
      "source": [
        "# import pickle\n",
        "# import drive\n",
        "# drive.mount('/content/drive')\n",
        "# DATA_PATH = \"/content/drive/Data\"\n",
        "# infile = open(DATA_PATH+'/notMNIST.pickle','rb')\n",
        "# best_model2 = pickle.load(infile)"
      ],
      "execution_count": null,
      "outputs": []
    },
    {
      "cell_type": "code",
      "metadata": {
        "id": "XPDS8JhEPuHY",
        "colab": {
          "base_uri": "https://localhost:8080/"
        },
        "outputId": "05df28dc-9cb7-451c-cda3-2cb4ee2b6515"
      },
      "source": [
        "from google.colab import drive\n",
        "drive.mount('/content/drive')\n",
        "%cd /content/drive/My Drive/Starcraft"
      ],
      "execution_count": null,
      "outputs": [
        {
          "output_type": "stream",
          "text": [
            "Mounted at /content/drive\n",
            "/content/drive/My Drive/Starcraft\n"
          ],
          "name": "stdout"
        }
      ]
    },
    {
      "cell_type": "code",
      "metadata": {
        "id": "RBO8KtIrJQkL",
        "colab": {
          "base_uri": "https://localhost:8080/"
        },
        "outputId": "f4195064-1e41-401e-a214-17355b7dcf79"
      },
      "source": [
        "!pwd\n",
        "!ls"
      ],
      "execution_count": null,
      "outputs": [
        {
          "output_type": "stream",
          "text": [
            "/content/drive/My Drive/Starcraft\n",
            "c_model_0001\t\t\t      dqn_purturbed_rolling_average_v1.txt\n",
            "c_model_0001.h5\t\t\t      dqn_purturbed_rolling_average_v2.txt\n",
            "c_model_0002\t\t\t      dqn_purturbed_rolling_average_v3.txt\n",
            "c_model_0002.h5\t\t\t      dqn_purturbed_rolling_average_v4.txt\n",
            "c_model_0003.h5\t\t\t      dqn_purturbed_rolling_average_v5.txt\n",
            "c_model_0004.h5\t\t\t      dqn_surreal_rewards_v0.txt\n",
            "c_model_0005.h5\t\t\t      dqn_surreal_rewards_v1.txt\n",
            "c_model_0006.h5\t\t\t      dqn_surreal_rewards_v2.txt\n",
            "c_model_0007.h5\t\t\t      dqn_surreal_rewards_v3.txt\n",
            "c_model_0008.h5\t\t\t      dqn_surreal_rewards_v4.txt\n",
            "c_model_0009.h5\t\t\t      dqn_surreal_rewards_v5.txt\n",
            "c_model_0010.h5\t\t\t      dqn_surreal_rolling_average_v0.txt\n",
            "c_model_0011.h5\t\t\t      dqn_surreal_rolling_average_v1.txt\n",
            "c_model_0012.h5\t\t\t      dqn_surreal_rolling_average_v2.txt\n",
            "c_model_0013.h5\t\t\t      dqn_surreal_rolling_average_v3.txt\n",
            "c_model_0014.h5\t\t\t      dqn_surreal_rolling_average_v4.txt\n",
            "c_model_0015.h5\t\t\t      dqn_surreal_rolling_average_v5.txt\n",
            "c_model_0016.h5\t\t\t      generated_plot_0001.png\n",
            "c_model_0017.h5\t\t\t      generated_plot_0002.png\n",
            "c_model_0018.h5\t\t\t      generated_plot_0003.png\n",
            "c_model_0019.h5\t\t\t      generated_plot_0004.png\n",
            "c_model_0020.h5\t\t\t      generated_plot_0005.png\n",
            "c_model_0021.h5\t\t\t      generated_plot_0006.png\n",
            "c_model_0022.h5\t\t\t      generated_plot_0007.png\n",
            "c_model_0023.h5\t\t\t      generated_plot_0008.png\n",
            "c_model_0024.h5\t\t\t      generated_plot_0009.png\n",
            "c_model_0025.h5\t\t\t      generated_plot_0010.png\n",
            "c_model_0026.h5\t\t\t      generated_plot_0011.png\n",
            "c_model_0027.h5\t\t\t      generated_plot_0012.png\n",
            "c_model_0028.h5\t\t\t      generated_plot_0013.png\n",
            "c_model_0029.h5\t\t\t      generated_plot_0014.png\n",
            "c_model_0030.h5\t\t\t      generated_plot_0015.png\n",
            "c_model_0031.h5\t\t\t      generated_plot_0016.png\n",
            "c_model_0032.h5\t\t\t      generated_plot_0017.png\n",
            "c_model_0033.h5\t\t\t      generated_plot_0018.png\n",
            "c_model_0034.h5\t\t\t      generated_plot_0019.png\n",
            "c_model_0035.h5\t\t\t      generated_plot_0020.png\n",
            "c_model_0036.h5\t\t\t      generated_plot_0021.png\n",
            "c_model_0037.h5\t\t\t      generated_plot_0022.png\n",
            "c_model_0038.h5\t\t\t      generated_plot_0023.png\n",
            "c_model_0039.h5\t\t\t      generated_plot_0024.png\n",
            "c_model_0040.h5\t\t\t      generated_plot_0025.png\n",
            "c_model_0041.h5\t\t\t      generated_plot_0026.png\n",
            "c_model_0042.h5\t\t\t      generated_plot_0027.png\n",
            "c_model_0043.h5\t\t\t      generated_plot_0028.png\n",
            "c_model_0044.h5\t\t\t      generated_plot_0029.png\n",
            "c_model_0045.h5\t\t\t      generated_plot_0030.png\n",
            "c_model_0046.h5\t\t\t      generated_plot_0031.png\n",
            "c_model_0047.h5\t\t\t      generated_plot_0032.png\n",
            "c_model_0048.h5\t\t\t      generated_plot_0033.png\n",
            "c_model_0049.h5\t\t\t      generated_plot_0034.png\n",
            "c_model_0050.h5\t\t\t      generated_plot_0035.png\n",
            "c_model_0051.h5\t\t\t      generated_plot_0036.png\n",
            "c_model_0052.h5\t\t\t      generated_plot_0037.png\n",
            "c_model_0053.h5\t\t\t      generated_plot_0038.png\n",
            "c_model_0054.h5\t\t\t      generated_plot_0039.png\n",
            "c_model_0055.h5\t\t\t      generated_plot_0040.png\n",
            "c_model_0056.h5\t\t\t      generated_plot_0041.png\n",
            "c_model_0057.h5\t\t\t      generated_plot_0042.png\n",
            "c_model_0058.h5\t\t\t      generated_plot_0043.png\n",
            "c_model_0059.h5\t\t\t      generated_plot_0044.png\n",
            "c_model_0060.h5\t\t\t      generated_plot_0045.png\n",
            "c_model_0061.h5\t\t\t      generated_plot_0046.png\n",
            "c_model_0062.h5\t\t\t      generated_plot_0047.png\n",
            "c_model_0063.h5\t\t\t      generated_plot_0048.png\n",
            "c_model_0064.h5\t\t\t      generated_plot_0049.png\n",
            "c_model_0065.h5\t\t\t      generated_plot_0050.png\n",
            "c_model_0066.h5\t\t\t      generated_plot_0051.png\n",
            "c_model_0067.h5\t\t\t      generated_plot_0052.png\n",
            "c_model_0068.h5\t\t\t      generated_plot_0053.png\n",
            "c_model_0069.h5\t\t\t      generated_plot_0054.png\n",
            "c_model_0070.h5\t\t\t      generated_plot_0055.png\n",
            "c_model_0071.h5\t\t\t      generated_plot_0056.png\n",
            "c_model_0072.h5\t\t\t      generated_plot_0057.png\n",
            "c_model_0073.h5\t\t\t      generated_plot_0058.png\n",
            "c_model_0074.h5\t\t\t      generated_plot_0059.png\n",
            "c_model_0075.h5\t\t\t      generated_plot_0060.png\n",
            "c_model_0076.h5\t\t\t      generated_plot_0061.png\n",
            "c_model_0077.h5\t\t\t      generated_plot_0062.png\n",
            "c_model_0078.h5\t\t\t      generated_plot_0063.png\n",
            "c_model_0079.h5\t\t\t      generated_plot_0064.png\n",
            "c_model_0080.h5\t\t\t      generated_plot_0065.png\n",
            "c_model_0081.h5\t\t\t      generated_plot_0066.png\n",
            "c_model_0082.h5\t\t\t      generated_plot_0067.png\n",
            "c_model_0083.h5\t\t\t      generated_plot_0068.png\n",
            "c_model_0084.h5\t\t\t      generated_plot_0069.png\n",
            "c_model_0085.h5\t\t\t      generated_plot_0070.png\n",
            "c_model_0086.h5\t\t\t      generated_plot_0071.png\n",
            "c_model_0087.h5\t\t\t      generated_plot_0072.png\n",
            "c_model_0088.h5\t\t\t      generated_plot_0073.png\n",
            "c_model_0089.h5\t\t\t      generated_plot_0074.png\n",
            "c_model_0090.h5\t\t\t      generated_plot_0075.png\n",
            "c_model_0091.h5\t\t\t      generated_plot_0076.png\n",
            "c_model_0092.h5\t\t\t      generated_plot_0077.png\n",
            "c_model_0093.h5\t\t\t      generated_plot_0078.png\n",
            "c_model_0094.h5\t\t\t      generated_plot_0079.png\n",
            "c_model_0095.h5\t\t\t      generated_plot_0080.png\n",
            "c_model_0096.h5\t\t\t      generated_plot_0081.png\n",
            "c_model_0097.h5\t\t\t      generated_plot_0082.png\n",
            "c_model_0098.h5\t\t\t      generated_plot_0083.png\n",
            "c_model_0099.h5\t\t\t      generated_plot_0084.png\n",
            "c_model_0100.h5\t\t\t      generated_plot_0085.png\n",
            "c_model_0101.h5\t\t\t      generated_plot_0086.png\n",
            "c_model_0102.h5\t\t\t      generated_plot_0087.png\n",
            "c_model_0103.h5\t\t\t      generated_plot_0088.png\n",
            "c_model_0104.h5\t\t\t      generated_plot_0089.png\n",
            "c_model_0105.h5\t\t\t      generated_plot_0090.png\n",
            "c_model_0106.h5\t\t\t      generated_plot_0091.png\n",
            "c_model_0107.h5\t\t\t      generated_plot_0092.png\n",
            "c_model_0108.h5\t\t\t      generated_plot_0093.png\n",
            "c_model_0109.h5\t\t\t      generated_plot_0094.png\n",
            "c_model_0110.h5\t\t\t      generated_plot_0095.png\n",
            "c_model_0111.h5\t\t\t      generated_plot_0096.png\n",
            "c_model_0112.h5\t\t\t      generated_plot_0097.png\n",
            "c_model_0113.h5\t\t\t      generated_plot_0098.png\n",
            "c_model_0114.h5\t\t\t      generated_plot_0099.png\n",
            "c_model_0115.h5\t\t\t      generated_plot_0100.png\n",
            "c_model_0116.h5\t\t\t      generated_plot_0101.png\n",
            "c_model_0117.h5\t\t\t      generated_plot_0102.png\n",
            "c_model_0118.h5\t\t\t      generated_plot_0103.png\n",
            "c_model_0119.h5\t\t\t      generated_plot_0104.png\n",
            "c_model_0120.h5\t\t\t      generated_plot_0105.png\n",
            "c_model_0121.h5\t\t\t      generated_plot_0106.png\n",
            "c_model_0122.h5\t\t\t      generated_plot_0107.png\n",
            "c_model_0123.h5\t\t\t      generated_plot_0108.png\n",
            "c_model_0124.h5\t\t\t      generated_plot_0109.png\n",
            "c_model_0125.h5\t\t\t      generated_plot_0110.png\n",
            "c_model_0126.h5\t\t\t      generated_plot_0111.png\n",
            "c_model_0127.h5\t\t\t      generated_plot_0112.png\n",
            "c_model_0128.h5\t\t\t      generated_plot_0113.png\n",
            "c_model_0129.h5\t\t\t      generated_plot_0114.png\n",
            "c_model_0130.h5\t\t\t      generated_plot_0115.png\n",
            "c_model_0131.h5\t\t\t      generated_plot_0116.png\n",
            "c_model_0132.h5\t\t\t      generated_plot_0117.png\n",
            "c_model_0133.h5\t\t\t      generated_plot_0118.png\n",
            "c_model_0134.h5\t\t\t      generated_plot_0119.png\n",
            "c_model_0135.h5\t\t\t      generated_plot_0120.png\n",
            "c_model_0136.h5\t\t\t      generated_plot_0121.png\n",
            "c_model_0137.h5\t\t\t      generated_plot_0122.png\n",
            "c_model_0138.h5\t\t\t      generated_plot_0123.png\n",
            "c_model_0139.h5\t\t\t      generated_plot_0124.png\n",
            "c_model_0140.h5\t\t\t      generated_plot_0125.png\n",
            "c_model_0141.h5\t\t\t      generated_plot_0126.png\n",
            "c_model_0142.h5\t\t\t      generated_plot_0127.png\n",
            "c_model_0143.h5\t\t\t      generated_plot_0128.png\n",
            "c_model_0144.h5\t\t\t      generated_plot_0129.png\n",
            "c_model_0145.h5\t\t\t      generated_plot_0130.png\n",
            "c_model_0146.h5\t\t\t      generated_plot_0131.png\n",
            "c_model_0147.h5\t\t\t      generated_plot_0132.png\n",
            "c_model_0148.h5\t\t\t      generated_plot_0133.png\n",
            "c_model_0149.h5\t\t\t      generated_plot_0134.png\n",
            "c_model_0150.h5\t\t\t      generated_plot_0135.png\n",
            "c_model_0151.h5\t\t\t      generated_plot_0136.png\n",
            "c_model_0152.h5\t\t\t      generated_plot_0137.png\n",
            "c_model_0153.h5\t\t\t      generated_plot_0138.png\n",
            "c_model_0154.h5\t\t\t      generated_plot_0139.png\n",
            "c_model_0155.h5\t\t\t      generated_plot_0140.png\n",
            "c_model_0156.h5\t\t\t      generated_plot_0141.png\n",
            "c_model_0157.h5\t\t\t      generated_plot_0142.png\n",
            "c_model_0158.h5\t\t\t      generated_plot_0143.png\n",
            "c_model_0159.h5\t\t\t      generated_plot_0144.png\n",
            "c_model_0160.h5\t\t\t      generated_plot_0145.png\n",
            "c_model_0161.h5\t\t\t      generated_plot_0146.png\n",
            "c_model_0162.h5\t\t\t      generated_plot_0147.png\n",
            "c_model_0163.h5\t\t\t      generated_plot_0148.png\n",
            "c_model_0164.h5\t\t\t      generated_plot_0149.png\n",
            "c_model_0165.h5\t\t\t      generated_plot_0150.png\n",
            "c_model_0166.h5\t\t\t      generated_plot_0151.png\n",
            "c_model_0167.h5\t\t\t      generated_plot_0152.png\n",
            "c_model_0168.h5\t\t\t      generated_plot_0153.png\n",
            "c_model_0169.h5\t\t\t      generated_plot_0154.png\n",
            "c_model_0170.h5\t\t\t      generated_plot_0155.png\n",
            "c_model_0171.h5\t\t\t      generated_plot_0156.png\n",
            "c_model_0172.h5\t\t\t      generated_plot_0157.png\n",
            "c_model_0600\t\t\t      generated_plot_0158.png\n",
            "c_model_0600.h5\t\t\t      generated_plot_0159.png\n",
            "c_model_10200.h5\t\t      generated_plot_0160.png\n",
            "c_model_1200\t\t\t      generated_plot_0161.png\n",
            "c_model_1200.h5\t\t\t      generated_plot_0162.png\n",
            "c_model_1800\t\t\t      generated_plot_0163.png\n",
            "c_model_1800.h5\t\t\t      generated_plot_0164.png\n",
            "c_model_2400\t\t\t      generated_plot_0165.png\n",
            "c_model_2400.h5\t\t\t      generated_plot_0166.png\n",
            "c_model_3000\t\t\t      generated_plot_0167.png\n",
            "c_model_3000.h5\t\t\t      generated_plot_0168.png\n",
            "c_model_3600\t\t\t      generated_plot_0169.png\n",
            "c_model_3600.h5\t\t\t      generated_plot_0170.png\n",
            "c_model_4200\t\t\t      generated_plot_0171.png\n",
            "c_model_4200.h5\t\t\t      generated_plot_0172.png\n",
            "c_model_4800\t\t\t      generated_plot_0600.png\n",
            "c_model_4800.h5\t\t\t      generated_plot_10200.png\n",
            "c_model_5400\t\t\t      generated_plot_1200.png\n",
            "c_model_5400.h5\t\t\t      generated_plot_1800.png\n",
            "c_model_6000\t\t\t      generated_plot_2400.png\n",
            "c_model_6000.h5\t\t\t      generated_plot_3000.png\n",
            "c_model_6600\t\t\t      generated_plot_3600.png\n",
            "c_model_6600.h5\t\t\t      generated_plot_4200.png\n",
            "c_model_7200\t\t\t      generated_plot_4800.png\n",
            "c_model_7200.h5\t\t\t      generated_plot_5400.png\n",
            "c_model_7800\t\t\t      generated_plot_6000.png\n",
            "c_model_7800.h5\t\t\t      generated_plot_6600.png\n",
            "c_model_8400\t\t\t      generated_plot_7200.png\n",
            "c_model_8400.h5\t\t\t      generated_plot_7800.png\n",
            "c_model_9000\t\t\t      generated_plot_8400.png\n",
            "c_model_9000.h5\t\t\t      generated_plot_9000.png\n",
            "c_model_9600\t\t\t      generated_plot_9600.png\n",
            "c_model_9600.h5\t\t\t      generated_plot_v1.png\n",
            "c_model_v1.h5\t\t\t      g_model_0001\n",
            "d_model_0001\t\t\t      g_model_0001.h5\n",
            "d_model_0001.h5\t\t\t      g_model_0002\n",
            "d_model_0002\t\t\t      g_model_0002.h5\n",
            "d_model_0002.h5\t\t\t      g_model_0003.h5\n",
            "d_model_0003.h5\t\t\t      g_model_0004.h5\n",
            "d_model_0004.h5\t\t\t      g_model_0005.h5\n",
            "d_model_0005.h5\t\t\t      g_model_0006.h5\n",
            "d_model_0006.h5\t\t\t      g_model_0007.h5\n",
            "d_model_0007.h5\t\t\t      g_model_0008.h5\n",
            "d_model_0008.h5\t\t\t      g_model_0009.h5\n",
            "d_model_0009.h5\t\t\t      g_model_0010.h5\n",
            "d_model_0010.h5\t\t\t      g_model_0011.h5\n",
            "d_model_0011.h5\t\t\t      g_model_0012.h5\n",
            "d_model_0012.h5\t\t\t      g_model_0013.h5\n",
            "d_model_0013.h5\t\t\t      g_model_0014.h5\n",
            "d_model_0014.h5\t\t\t      g_model_0015.h5\n",
            "d_model_0015.h5\t\t\t      g_model_0016.h5\n",
            "d_model_0016.h5\t\t\t      g_model_0017.h5\n",
            "d_model_0017.h5\t\t\t      g_model_0018.h5\n",
            "d_model_0018.h5\t\t\t      g_model_0019.h5\n",
            "d_model_0019.h5\t\t\t      g_model_0020.h5\n",
            "d_model_0020.h5\t\t\t      g_model_0021.h5\n",
            "d_model_0021.h5\t\t\t      g_model_0022.h5\n",
            "d_model_0022.h5\t\t\t      g_model_0023.h5\n",
            "d_model_0023.h5\t\t\t      g_model_0024.h5\n",
            "d_model_0024.h5\t\t\t      g_model_0025.h5\n",
            "d_model_0025.h5\t\t\t      g_model_0026.h5\n",
            "d_model_0026.h5\t\t\t      g_model_0027.h5\n",
            "d_model_0027.h5\t\t\t      g_model_0028.h5\n",
            "d_model_0028.h5\t\t\t      g_model_0029.h5\n",
            "d_model_0029.h5\t\t\t      g_model_0030.h5\n",
            "d_model_0030.h5\t\t\t      g_model_0031.h5\n",
            "d_model_0031.h5\t\t\t      g_model_0032.h5\n",
            "d_model_0032.h5\t\t\t      g_model_0033.h5\n",
            "d_model_0033.h5\t\t\t      g_model_0034.h5\n",
            "d_model_0034.h5\t\t\t      g_model_0035.h5\n",
            "d_model_0035.h5\t\t\t      g_model_0036.h5\n",
            "d_model_0036.h5\t\t\t      g_model_0037.h5\n",
            "d_model_0037.h5\t\t\t      g_model_0038.h5\n",
            "d_model_0038.h5\t\t\t      g_model_0039.h5\n",
            "d_model_0039.h5\t\t\t      g_model_0040.h5\n",
            "d_model_0040.h5\t\t\t      g_model_0041.h5\n",
            "d_model_0041.h5\t\t\t      g_model_0042.h5\n",
            "d_model_0042.h5\t\t\t      g_model_0043.h5\n",
            "d_model_0043.h5\t\t\t      g_model_0044.h5\n",
            "d_model_0044.h5\t\t\t      g_model_0045.h5\n",
            "d_model_0045.h5\t\t\t      g_model_0046.h5\n",
            "d_model_0046.h5\t\t\t      g_model_0047.h5\n",
            "d_model_0047.h5\t\t\t      g_model_0048.h5\n",
            "d_model_0048.h5\t\t\t      g_model_0049.h5\n",
            "d_model_0049.h5\t\t\t      g_model_0050.h5\n",
            "d_model_0050.h5\t\t\t      g_model_0051.h5\n",
            "d_model_0051.h5\t\t\t      g_model_0052.h5\n",
            "d_model_0052.h5\t\t\t      g_model_0053.h5\n",
            "d_model_0053.h5\t\t\t      g_model_0054.h5\n",
            "d_model_0054.h5\t\t\t      g_model_0055.h5\n",
            "d_model_0055.h5\t\t\t      g_model_0056.h5\n",
            "d_model_0056.h5\t\t\t      g_model_0057.h5\n",
            "d_model_0057.h5\t\t\t      g_model_0058.h5\n",
            "d_model_0058.h5\t\t\t      g_model_0059.h5\n",
            "d_model_0059.h5\t\t\t      g_model_0060.h5\n",
            "d_model_0060.h5\t\t\t      g_model_0061.h5\n",
            "d_model_0061.h5\t\t\t      g_model_0062.h5\n",
            "d_model_0062.h5\t\t\t      g_model_0063.h5\n",
            "d_model_0063.h5\t\t\t      g_model_0064.h5\n",
            "d_model_0064.h5\t\t\t      g_model_0065.h5\n",
            "d_model_0065.h5\t\t\t      g_model_0066.h5\n",
            "d_model_0066.h5\t\t\t      g_model_0067.h5\n",
            "d_model_0067.h5\t\t\t      g_model_0068.h5\n",
            "d_model_0068.h5\t\t\t      g_model_0069.h5\n",
            "d_model_0069.h5\t\t\t      g_model_0070.h5\n",
            "d_model_0070.h5\t\t\t      g_model_0071.h5\n",
            "d_model_0071.h5\t\t\t      g_model_0072.h5\n",
            "d_model_0072.h5\t\t\t      g_model_0073.h5\n",
            "d_model_0073.h5\t\t\t      g_model_0074.h5\n",
            "d_model_0074.h5\t\t\t      g_model_0075.h5\n",
            "d_model_0075.h5\t\t\t      g_model_0076.h5\n",
            "d_model_0076.h5\t\t\t      g_model_0077.h5\n",
            "d_model_0077.h5\t\t\t      g_model_0078.h5\n",
            "d_model_0078.h5\t\t\t      g_model_0079.h5\n",
            "d_model_0079.h5\t\t\t      g_model_0080.h5\n",
            "d_model_0080.h5\t\t\t      g_model_0081.h5\n",
            "d_model_0081.h5\t\t\t      g_model_0082.h5\n",
            "d_model_0082.h5\t\t\t      g_model_0083.h5\n",
            "d_model_0083.h5\t\t\t      g_model_0084.h5\n",
            "d_model_0084.h5\t\t\t      g_model_0085.h5\n",
            "d_model_0085.h5\t\t\t      g_model_0086.h5\n",
            "d_model_0086.h5\t\t\t      g_model_0087.h5\n",
            "d_model_0087.h5\t\t\t      g_model_0088.h5\n",
            "d_model_0088.h5\t\t\t      g_model_0089.h5\n",
            "d_model_0089.h5\t\t\t      g_model_0090.h5\n",
            "d_model_0090.h5\t\t\t      g_model_0091.h5\n",
            "d_model_0091.h5\t\t\t      g_model_0092.h5\n",
            "d_model_0092.h5\t\t\t      g_model_0093.h5\n",
            "d_model_0093.h5\t\t\t      g_model_0094.h5\n",
            "d_model_0094.h5\t\t\t      g_model_0095.h5\n",
            "d_model_0095.h5\t\t\t      g_model_0096.h5\n",
            "d_model_0096.h5\t\t\t      g_model_0097.h5\n",
            "d_model_0097.h5\t\t\t      g_model_0098.h5\n",
            "d_model_0098.h5\t\t\t      g_model_0099.h5\n",
            "d_model_0099.h5\t\t\t      g_model_0100.h5\n",
            "d_model_0100.h5\t\t\t      g_model_0101.h5\n",
            "d_model_0101.h5\t\t\t      g_model_0102.h5\n",
            "d_model_0102.h5\t\t\t      g_model_0103.h5\n",
            "d_model_0103.h5\t\t\t      g_model_0104.h5\n",
            "d_model_0104.h5\t\t\t      g_model_0105.h5\n",
            "d_model_0105.h5\t\t\t      g_model_0106.h5\n",
            "d_model_0106.h5\t\t\t      g_model_0107.h5\n",
            "d_model_0107.h5\t\t\t      g_model_0108.h5\n",
            "d_model_0108.h5\t\t\t      g_model_0109.h5\n",
            "d_model_0109.h5\t\t\t      g_model_0110.h5\n",
            "d_model_0110.h5\t\t\t      g_model_0111.h5\n",
            "d_model_0111.h5\t\t\t      g_model_0112.h5\n",
            "d_model_0112.h5\t\t\t      g_model_0113.h5\n",
            "d_model_0113.h5\t\t\t      g_model_0114.h5\n",
            "d_model_0114.h5\t\t\t      g_model_0115.h5\n",
            "d_model_0115.h5\t\t\t      g_model_0116.h5\n",
            "d_model_0116.h5\t\t\t      g_model_0117.h5\n",
            "d_model_0117.h5\t\t\t      g_model_0118.h5\n",
            "d_model_0118.h5\t\t\t      g_model_0119.h5\n",
            "d_model_0119.h5\t\t\t      g_model_0120.h5\n",
            "d_model_0120.h5\t\t\t      g_model_0121.h5\n",
            "d_model_0121.h5\t\t\t      g_model_0122.h5\n",
            "d_model_0122.h5\t\t\t      g_model_0123.h5\n",
            "d_model_0123.h5\t\t\t      g_model_0124.h5\n",
            "d_model_0124.h5\t\t\t      g_model_0125.h5\n",
            "d_model_0125.h5\t\t\t      g_model_0126.h5\n",
            "d_model_0126.h5\t\t\t      g_model_0127.h5\n",
            "d_model_0127.h5\t\t\t      g_model_0128.h5\n",
            "d_model_0128.h5\t\t\t      g_model_0129.h5\n",
            "d_model_0129.h5\t\t\t      g_model_0130.h5\n",
            "d_model_0130.h5\t\t\t      g_model_0131.h5\n",
            "d_model_0131.h5\t\t\t      g_model_0132.h5\n",
            "d_model_0132.h5\t\t\t      g_model_0133.h5\n",
            "d_model_0133.h5\t\t\t      g_model_0134.h5\n",
            "d_model_0134.h5\t\t\t      g_model_0135.h5\n",
            "d_model_0135.h5\t\t\t      g_model_0136.h5\n",
            "d_model_0136.h5\t\t\t      g_model_0137.h5\n",
            "d_model_0137.h5\t\t\t      g_model_0138.h5\n",
            "d_model_0138.h5\t\t\t      g_model_0139.h5\n",
            "d_model_0139.h5\t\t\t      g_model_0140.h5\n",
            "d_model_0140.h5\t\t\t      g_model_0141.h5\n",
            "d_model_0141.h5\t\t\t      g_model_0142.h5\n",
            "d_model_0142.h5\t\t\t      g_model_0143.h5\n",
            "d_model_0143.h5\t\t\t      g_model_0144.h5\n",
            "d_model_0144.h5\t\t\t      g_model_0145.h5\n",
            "d_model_0145.h5\t\t\t      g_model_0146.h5\n",
            "d_model_0146.h5\t\t\t      g_model_0147.h5\n",
            "d_model_0147.h5\t\t\t      g_model_0148.h5\n",
            "d_model_0148.h5\t\t\t      g_model_0149.h5\n",
            "d_model_0149.h5\t\t\t      g_model_0150.h5\n",
            "d_model_0150.h5\t\t\t      g_model_0151.h5\n",
            "d_model_0151.h5\t\t\t      g_model_0152.h5\n",
            "d_model_0152.h5\t\t\t      g_model_0153.h5\n",
            "d_model_0153.h5\t\t\t      g_model_0154.h5\n",
            "d_model_0154.h5\t\t\t      g_model_0155.h5\n",
            "d_model_0155.h5\t\t\t      g_model_0156.h5\n",
            "d_model_0156.h5\t\t\t      g_model_0157.h5\n",
            "d_model_0157.h5\t\t\t      g_model_0158.h5\n",
            "d_model_0158.h5\t\t\t      g_model_0159.h5\n",
            "d_model_0159.h5\t\t\t      g_model_0160.h5\n",
            "d_model_0160.h5\t\t\t      g_model_0161.h5\n",
            "d_model_0161.h5\t\t\t      g_model_0162.h5\n",
            "d_model_0162.h5\t\t\t      g_model_0163.h5\n",
            "d_model_0163.h5\t\t\t      g_model_0164.h5\n",
            "d_model_0164.h5\t\t\t      g_model_0165.h5\n",
            "d_model_0165.h5\t\t\t      g_model_0166.h5\n",
            "d_model_0166.h5\t\t\t      g_model_0167.h5\n",
            "d_model_0167.h5\t\t\t      g_model_0168.h5\n",
            "d_model_0168.h5\t\t\t      g_model_0169.h5\n",
            "d_model_0169.h5\t\t\t      g_model_0170.h5\n",
            "d_model_0170.h5\t\t\t      g_model_0171.h5\n",
            "d_model_0171.h5\t\t\t      g_model_0172.h5\n",
            "d_model_0172.h5\t\t\t      g_model_0600\n",
            "d_model_0600\t\t\t      g_model_0600.h5\n",
            "d_model_0600.h5\t\t\t      g_model_10200.h5\n",
            "d_model_1200\t\t\t      g_model_1200\n",
            "d_model_1800\t\t\t      g_model_1200.h5\n",
            "d_model_2400\t\t\t      g_model_1800\n",
            "d_model_3000\t\t\t      g_model_1800.h5\n",
            "d_model_3600\t\t\t      g_model_2400\n",
            "d_model_4200\t\t\t      g_model_2400.h5\n",
            "d_model_4800\t\t\t      g_model_3000\n",
            "d_model_5400\t\t\t      g_model_3000.h5\n",
            "d_model_6000\t\t\t      g_model_3600\n",
            "d_model_6600\t\t\t      g_model_3600.h5\n",
            "d_model_7200\t\t\t      g_model_4200\n",
            "d_model_7800\t\t\t      g_model_4200.h5\n",
            "d_model_8400\t\t\t      g_model_4800\n",
            "d_model_9000\t\t\t      g_model_4800.h5\n",
            "d_model_9600\t\t\t      g_model_5400\n",
            "dqn_baseline_rewards_v0.txt\t      g_model_5400.h5\n",
            "dqn_baseline_rewards_v1.txt\t      g_model_6000\n",
            "dqn_baseline_rewards_v2.txt\t      g_model_6000.h5\n",
            "dqn_baseline_rewards_v3.txt\t      g_model_6600\n",
            "dqn_baseline_rewards_v4.txt\t      g_model_6600.h5\n",
            "dqn_baseline_rewards_v5.txt\t      g_model_7200\n",
            "dqn_baseline_rolling_average_v0.txt   g_model_7200.h5\n",
            "dqn_baseline_rolling_average_v1.txt   g_model_7800\n",
            "dqn_baseline_rolling_average_v2.txt   g_model_7800.h5\n",
            "dqn_baseline_rolling_average_v3.txt   g_model_8400\n",
            "dqn_baseline_rolling_average_v4.txt   g_model_8400.h5\n",
            "dqn_baseline_rolling_average_v5.txt   g_model_9000\n",
            "dqn_purturbed_rewards_v0.txt\t      g_model_9000.h5\n",
            "dqn_purturbed_rewards_v1.txt\t      g_model_9600\n",
            "dqn_purturbed_rewards_v2.txt\t      g_model_9600.h5\n",
            "dqn_purturbed_rewards_v3.txt\t      g_model_v1.h5\n",
            "dqn_purturbed_rewards_v4.txt\t      Macro\n",
            "dqn_purturbed_rewards_v5.txt\t      Micro\n",
            "dqn_purturbed_rolling_average_v0.txt\n"
          ],
          "name": "stdout"
        }
      ]
    },
    {
      "cell_type": "code",
      "metadata": {
        "id": "obSl14B_oDGH"
      },
      "source": [
        "import pickle\n",
        "import numpy as np"
      ],
      "execution_count": null,
      "outputs": []
    },
    {
      "cell_type": "code",
      "metadata": {
        "id": "StKwgfx3S7Vh",
        "colab": {
          "base_uri": "https://localhost:8080/",
          "height": 265
        },
        "outputId": "d34a467a-7a44-48ff-a99a-b385031ed45c"
      },
      "source": [
        "#smushin em together and seeing what we git\n",
        "import numpy as np\n",
        "import matplotlib.pyplot as plt\n",
        "\n",
        "rewards = []\n",
        "reward_average = []\n",
        "my_len = 6\n",
        "for i in range(my_len):  \n",
        "  file_name = \"dqn_baseline_rewards_v\" + str(i) + \".txt\"\n",
        "  file_name = \"dqn_baseline_rolling_average_v\" + str(i) + \".txt\"\n",
        "\n",
        "  loaded_rewards = pickle.load(open(file_name, \"rb\" ))\n",
        "  loaded_moving_average = pickle.load(open(file_name, \"rb\" ))\n",
        "  rewards.append(loaded_rewards)\n",
        "  reward_average.append(loaded_moving_average)\n",
        "  plt.plot(rewards[i][0:500], color='g')\n",
        "  #plt.plot(reward_average[i][0:500], color='g')\n",
        "  plt.axhline(y=195, color='r', linestyle='-') #Solved Line\n",
        "\n",
        "rewards = []\n",
        "reward_average = []\n",
        "for i in range(my_len):\n",
        "  file_name = \"dqn_surreal_rewards_v\" + str(i) + \".txt\"\n",
        "  file_name = \"dqn_surreal_rolling_average_v\" + str(i) + \".txt\"\n",
        "\n",
        "  loaded_rewards = pickle.load(open(file_name, \"rb\" ))\n",
        "  loaded_moving_average = pickle.load(open(file_name, \"rb\" ))\n",
        "  rewards.append(loaded_rewards)\n",
        "  reward_average.append(loaded_moving_average)\n",
        "  plt.plot(rewards[i][0:500], color='b')\n",
        "  #plt.plot(reward_average[i][0:500], color='b')\n",
        "  plt.axhline(y=195, color='r', linestyle='-') #Solved Line\n",
        "\n",
        "rewards = []\n",
        "reward_average = []\n",
        "for i in range(my_len):\n",
        "  file_name = \"dqn_purturbed_rewards_v\" + str(i) + \".txt\"\n",
        "  file_name = \"dqn_purturbed_rolling_average_v\" + str(i) + \".txt\"\n",
        "\n",
        "  loaded_rewards = pickle.load(open(file_name, \"rb\" ))\n",
        "  loaded_moving_average = pickle.load(open(file_name, \"rb\" ))\n",
        "  rewards.append(loaded_rewards)\n",
        "  reward_average.append(loaded_moving_average)\n",
        "  plt.plot(rewards[i][0:500], color='r')\n",
        "  #plt.plot(reward_average[i][0:500], color='r')\n",
        "  plt.axhline(y=195, color='r', linestyle='-') #Solved Line\n",
        "\n",
        "plt.show()"
      ],
      "execution_count": null,
      "outputs": [
        {
          "output_type": "display_data",
          "data": {
            "image/png": "[encoded data removed]",
            "text/plain": [
              "<Figure size 432x288 with 1 Axes>"
            ]
          },
          "metadata": {
            "tags": [],
            "needs_background": "light"
          }
        }
      ]
    },
    {
      "cell_type": "code",
      "metadata": {
        "id": "2lvI_c1dG9IL",
        "colab": {
          "base_uri": "https://localhost:8080/",
          "height": 295
        },
        "outputId": "70adaac2-0b7d-4626-fc1f-6826cb59947d"
      },
      "source": [
        "# for i in range(len(rewards_baseline_avg)):#\n",
        "#   #y[i] = np.average(y[i])\n",
        "#   rewards_baseline_avg[i] = np.average(rewards_baseline_avg[i])\n",
        "#   rewards_surreal_avg[i] = np.average(rewards_surreal_avg[i])\n",
        "#   rewards_purturbed_avg[i] = np.average(rewards_purturbed_avg[i])\n",
        "plt.plot(rewards[i][0:500], color='r', label ='Surreal Avg')\n",
        "plt.plot(reward_average[i][0:500], color='g', label ='Surreal Avg')\n",
        "plt.axhline(y=195, color='y', linestyle='-') #Solved Line\n",
        "plt.legend()\n",
        "plt.title('Average Rewards Over Time of 6 Runs for the Three Agents')\n",
        "plt.xlabel('Number of Episodes')\n",
        "plt.ylabel('Score')\n",
        "plt.show()"
      ],
      "execution_count": null,
      "outputs": [
        {
          "output_type": "display_data",
          "data": {
            "image/png": "[encoded data removed]",
            "text/plain": [
              "<Figure size 432x288 with 1 Axes>"
            ]
          },
          "metadata": {
            "tags": [],
            "needs_background": "light"
          }
        }
      ]
    },
    {
      "cell_type": "code",
      "metadata": {
        "id": "WGkKwqlCcoFB",
        "colab": {
          "base_uri": "https://localhost:8080/",
          "height": 265
        },
        "outputId": "e8651444-c9e3-41ff-eb3d-d5f8eb85036c"
      },
      "source": [
        "#smushin em together and seeing what we git\n",
        "import numpy as np\n",
        "import matplotlib.pyplot as plt\n",
        "\n",
        "rewards_baseline = []\n",
        "reward_average_baseline = []\n",
        "my_len = 6\n",
        "for i in range(my_len):\n",
        "  file_name = \"dqn_baseline_rewards_v\" + str(i) + \".txt\"\n",
        "  file_name = \"dqn_baseline_rolling_average_v\" + str(i) + \".txt\"\n",
        "\n",
        "  loaded_rewards = pickle.load(open(file_name, \"rb\" ))\n",
        "  loaded_moving_average = pickle.load(open(file_name, \"rb\" ))\n",
        "  rewards_baseline.append(loaded_rewards)\n",
        "  reward_average_baseline.append(loaded_moving_average)\n",
        "  #plt.plot(rewards_baseline[i][0:500], color='g')\n",
        "  plt.plot(reward_average_baseline[i][0:500], color='g')\n",
        "  plt.axhline(y=195, color='r', linestyle='-') #Solved Line\n",
        "\n",
        "rewards_surreal = []\n",
        "reward_average_surreal = []\n",
        "for i in range(my_len):\n",
        "  file_name = \"dqn_surreal_rewards_v\" + str(i) + \".txt\"\n",
        "  file_name = \"dqn_surreal_rolling_average_v\" + str(i) + \".txt\"\n",
        "\n",
        "  loaded_rewards = pickle.load(open(file_name, \"rb\" ))\n",
        "  loaded_moving_average = pickle.load(open(file_name, \"rb\" ))\n",
        "  rewards_surreal.append(loaded_rewards)\n",
        "  reward_average_surreal.append(loaded_moving_average)\n",
        "  #plt.plot(rewards_surreal[i][0:500], color='b')\n",
        "  plt.plot(reward_average_surreal[i][0:500], color='b')\n",
        "  plt.axhline(y=195, color='r', linestyle='-') #Solved Line\n",
        "\n",
        "rewards_purturbed = []\n",
        "reward_average_purturbed = []\n",
        "for i in range(my_len):\n",
        "  file_name = \"dqn_purturbed_rewards_v\" + str(i) + \".txt\"\n",
        "  file_name = \"dqn_purturbed_rolling_average_v\" + str(i) + \".txt\"\n",
        "\n",
        "  loaded_rewards = pickle.load(open(file_name, \"rb\" ))\n",
        "  loaded_moving_average = pickle.load(open(file_name, \"rb\" ))\n",
        "  rewards_purturbed.append(loaded_rewards)\n",
        "  reward_average_purturbed.append(loaded_moving_average)\n",
        "  #plt.plot(rewards_purturbed[i][0:500], color='r')\n",
        "  plt.plot(reward_average_purturbed[i][0:500], color='r')\n",
        "  plt.axhline(y=195, color='r', linestyle='-') #Solved Line\n",
        "\n",
        "plt.show()"
      ],
      "execution_count": null,
      "outputs": [
        {
          "output_type": "display_data",
          "data": {
            "image/png": "[encoded data removed]",
            "text/plain": [
              "<Figure size 432x288 with 1 Axes>"
            ]
          },
          "metadata": {
            "tags": [],
            "needs_background": "light"
          }
        }
      ]
    },
    {
      "cell_type": "code",
      "metadata": {
        "id": "eides66PKZvJ"
      },
      "source": [
        "rewards_baseline = np.asarray(rewards_baseline)\n",
        "rewards_surreal = np.asarray(rewards_surreal)\n",
        "rewards_purturbed = np.asarray(rewards_purturbed)"
      ],
      "execution_count": null,
      "outputs": []
    },
    {
      "cell_type": "code",
      "metadata": {
        "id": "KyLPukDeNIXT"
      },
      "source": [
        "rewards_baseline_avg = []\n",
        "rewards_surreal_avg = []\n",
        "rewards_purturbed_avg = []\n",
        "for i in range(len(rewards_baseline[0])):\n",
        "  rewards_baseline_avg.append(rewards_baseline[:,i])\n",
        "  rewards_surreal_avg.append(rewards_surreal[:,i])\n",
        "  rewards_purturbed_avg.append(rewards_purturbed[:,i])"
      ],
      "execution_count": null,
      "outputs": []
    },
    {
      "cell_type": "code",
      "metadata": {
        "id": "BmDjwR5oDZ-p",
        "colab": {
          "base_uri": "https://localhost:8080/"
        },
        "outputId": "b904d030-f73b-4676-cb47-f21e3d31d8ee"
      },
      "source": [
        "x = []\n",
        "for i in range(500):\n",
        "  x.append(195)\n",
        "len(x)"
      ],
      "execution_count": null,
      "outputs": [
        {
          "output_type": "execute_result",
          "data": {
            "text/plain": [
              "500"
            ]
          },
          "metadata": {
            "tags": []
          },
          "execution_count": 13
        }
      ]
    },
    {
      "cell_type": "code",
      "metadata": {
        "id": "PlxXeu0XDlZy",
        "colab": {
          "base_uri": "https://localhost:8080/"
        },
        "outputId": "d658cb03-1f52-4a60-e0eb-ba1693dfd4c8"
      },
      "source": [
        "x[0]"
      ],
      "execution_count": null,
      "outputs": [
        {
          "output_type": "execute_result",
          "data": {
            "text/plain": [
              "195"
            ]
          },
          "metadata": {
            "tags": []
          },
          "execution_count": 14
        }
      ]
    },
    {
      "cell_type": "code",
      "metadata": {
        "id": "7_ytfAjqPbZC",
        "colab": {
          "base_uri": "https://localhost:8080/",
          "height": 295
        },
        "outputId": "77ca436a-7e77-45a7-9a11-4da8958e2cbe"
      },
      "source": [
        "for i in range(len(rewards_baseline_avg)):#\n",
        "  #y[i] = np.average(y[i])\n",
        "  rewards_baseline_avg[i] = np.average(rewards_baseline_avg[i])\n",
        "  rewards_surreal_avg[i] = np.average(rewards_surreal_avg[i])\n",
        "  rewards_purturbed_avg[i] = np.average(rewards_purturbed_avg[i])\n",
        "plt.plot(rewards_baseline_avg[0:500], color='c', label='Baseline Avg')\n",
        "plt.plot(rewards_surreal_avg[0:500], color='r', label ='Surreal Avg')\n",
        "plt.plot(rewards_purturbed_avg[0:500], color='b', label='Purturbed Avg')\n",
        "plt.plot(x, color='y', label='Solved Line') #Solved Line\n",
        "plt.legend()\n",
        "plt.title('Averaged Reward of 6 Runs')\n",
        "plt.xlabel('Number of Episodes')\n",
        "plt.ylabel('Score: Total Time per Episode')\n",
        "plt.show()"
      ],
      "execution_count": null,
      "outputs": [
        {
          "output_type": "display_data",
          "data": {
            "image/png": "[encoded data removed]",
            "text/plain": [
              "<Figure size 432x288 with 1 Axes>"
            ]
          },
          "metadata": {
            "tags": [],
            "needs_background": "light"
          }
        }
      ]
    },
    {
      "cell_type": "code",
      "metadata": {
        "id": "D7sZW30rgBYX",
        "colab": {
          "base_uri": "https://localhost:8080/",
          "height": 281
        },
        "outputId": "44fb1a0d-dafb-4a55-d240-e219aa901a4d"
      },
      "source": [
        "\n",
        "import matplotlib.pyplot as plt\n",
        "import numpy as np\n",
        "\n",
        "y = [2,4,6,8,10,12,14,16,18,20]\n",
        "y2 = [10,11,12,13,14,15,16,17,18,19]\n",
        "x = np.arange(10)\n",
        "fig = plt.figure()\n",
        "ax = plt.subplot(111)\n",
        "ax.plot(x, y, label='$y = numbers')\n",
        "ax.plot(x, y2, label='$y2 = other numbers')\n",
        "plt.title('Legend inside')\n",
        "ax.legend()\n",
        "plt.show()"
      ],
      "execution_count": null,
      "outputs": [
        {
          "output_type": "display_data",
          "data": {
            "image/png": "[encoded data removed]",
            "text/plain": [
              "<Figure size 432x288 with 1 Axes>"
            ]
          },
          "metadata": {
            "tags": [],
            "needs_background": "light"
          }
        }
      ]
    },
    {
      "cell_type": "code",
      "metadata": {
        "id": "03A0P4XQgV1c",
        "colab": {
          "base_uri": "https://localhost:8080/",
          "height": 281
        },
        "outputId": "f451c65c-dcb5-4a35-e8a7-0dcabf5ebcab"
      },
      "source": [
        "\n",
        "import matplotlib.pyplot as plt\n",
        "import numpy as np\n",
        "\n",
        "y = [2,4,6,8,10,12,14,16,18,20]\n",
        "y2 = [10,11,12,13,14,15,16,17,18,19]\n",
        "x = np.arange(10)\n",
        "#fig = plt.figure()\n",
        "#ax = plt.subplot(111)\n",
        "plt.plot(x, y, label='$y = numbers')\n",
        "plt.plot(x, y2, label='$y2 = other numbers')\n",
        "plt.title('Legend inside')\n",
        "plt.legend()\n",
        "plt.show()"
      ],
      "execution_count": null,
      "outputs": [
        {
          "output_type": "display_data",
          "data": {
            "image/png": "[encoded data removed]",
            "text/plain": [
              "<Figure size 432x288 with 1 Axes>"
            ]
          },
          "metadata": {
            "tags": [],
            "needs_background": "light"
          }
        }
      ]
    },
    {
      "cell_type": "code",
      "metadata": {
        "id": "Mc_Omcr74U3s",
        "colab": {
          "base_uri": "https://localhost:8080/",
          "height": 508
        },
        "outputId": "fa443698-a4b2-4154-8830-a871a2b6e210"
      },
      "source": [
        "#v2\n",
        "for i in range(len(rewards_baseline_avg)):#\n",
        "  rewards_baseline_avg[i] = np.average(rewards_baseline_avg[i])\n",
        "  rewards_surreal_avg[i] = np.average(rewards_surreal_avg[i])\n",
        "  rewards_purturbed_avg[i] = np.average(rewards_purturbed_avg[i])\n",
        "line1 = plt.plot(rewards_baseline_avg[0:500], color='c')\n",
        "line2 = plt.plot(rewards_surreal_avg[0:500], color='g')\n",
        "line3 = plt.plot(rewards_purturbed_avg[0:500], color='y')\n",
        "line4 = plt.axhline(y=195, color='r', linestyle='-') #Solved Line\n",
        "plt.legend((line1, line2, line3, line4), ('label1', 'label2', 'label3', 'label4'))\n",
        "plt.show()"
      ],
      "execution_count": null,
      "outputs": [
        {
          "output_type": "stream",
          "text": [
            "/usr/local/lib/python3.7/dist-packages/ipykernel_launcher.py:10: UserWarning: Legend does not support [<matplotlib.lines.Line2D object at 0x7f024668c0d0>] instances.\n",
            "A proxy artist may be used instead.\n",
            "See: http://matplotlib.org/users/legend_guide.html#creating-artists-specifically-for-adding-to-the-legend-aka-proxy-artists\n",
            "  # Remove the CWD from sys.path while we load stuff.\n",
            "/usr/local/lib/python3.7/dist-packages/ipykernel_launcher.py:10: UserWarning: Legend does not support [<matplotlib.lines.Line2D object at 0x7f024668c5d0>] instances.\n",
            "A proxy artist may be used instead.\n",
            "See: http://matplotlib.org/users/legend_guide.html#creating-artists-specifically-for-adding-to-the-legend-aka-proxy-artists\n",
            "  # Remove the CWD from sys.path while we load stuff.\n",
            "/usr/local/lib/python3.7/dist-packages/ipykernel_launcher.py:10: UserWarning: Legend does not support [<matplotlib.lines.Line2D object at 0x7f024668cb10>] instances.\n",
            "A proxy artist may be used instead.\n",
            "See: http://matplotlib.org/users/legend_guide.html#creating-artists-specifically-for-adding-to-the-legend-aka-proxy-artists\n",
            "  # Remove the CWD from sys.path while we load stuff.\n"
          ],
          "name": "stderr"
        },
        {
          "output_type": "display_data",
          "data": {
            "image/png": "[encoded data removed]",
            "text/plain": [
              "<Figure size 432x288 with 1 Axes>"
            ]
          },
          "metadata": {
            "tags": [],
            "needs_background": "light"
          }
        }
      ]
    },
    {
      "cell_type": "code",
      "metadata": {
        "id": "PanIGPK_Z3IB"
      },
      "source": [
        "baseline_max = np.max(rewards_baseline_avg)\n",
        "surreal_max = np.max(rewards_surreal_avg)\n",
        "purturbed_max = np.max(rewards_purturbed_avg)"
      ],
      "execution_count": null,
      "outputs": []
    },
    {
      "cell_type": "code",
      "metadata": {
        "id": "d-8NIbDVdA3b"
      },
      "source": [
        "baseline_avg = np.average(rewards_baseline_avg)\n",
        "surreal_avg = np.average(rewards_surreal_avg)\n",
        "purturbed_avg = np.average(rewards_purturbed_avg)"
      ],
      "execution_count": null,
      "outputs": []
    },
    {
      "cell_type": "code",
      "metadata": {
        "id": "zv8v_OtxMenX",
        "colab": {
          "base_uri": "https://localhost:8080/"
        },
        "outputId": "a648cacc-d935-4ecd-dfd7-31903615f84b"
      },
      "source": [
        "print(baseline_max, surreal_max, purturbed_max)\n",
        "print(baseline_avg, surreal_avg, purturbed_avg)"
      ],
      "execution_count": null,
      "outputs": [
        {
          "output_type": "stream",
          "text": [
            "204.29499999999996 209.51333333333332 206.7933333333333\n",
            "143.78277777777777 141.26999999999998 142.6283333333333\n"
          ],
          "name": "stdout"
        }
      ]
    },
    {
      "cell_type": "code",
      "metadata": {
        "id": "91fjQAQ3z-MP",
        "colab": {
          "base_uri": "https://localhost:8080/",
          "height": 308
        },
        "outputId": "0c6262b5-f632-4575-e53d-bb52760198e7"
      },
      "source": [
        "import numpy as np\n",
        "import matplotlib.pyplot as plt\n",
        "\n",
        "\n",
        "data = [[ 66386, 174296,  75131, 577908,  32015],\n",
        "        [ 58230, 381139,  78045,  99308, 160454],\n",
        "        [ 89135,  80552, 152558, 497981, 603535],\n",
        "        [ 78415,  81858, 150656, 193263,  69638],\n",
        "        [139361, 331509, 343164, 781380,  52269]]\n",
        "\n",
        "columns = ('Freeze', 'Wind', 'Flood', 'Quake', 'Hail')\n",
        "rows = ['%d year' % x for x in (100, 50, 20, 10, 5)]\n",
        "\n",
        "values = np.arange(0, 2500, 500)\n",
        "value_increment = 1000\n",
        "\n",
        "# Get some pastel shades for the colors\n",
        "colors = plt.cm.BuPu(np.linspace(0, 0.5, len(rows)))\n",
        "n_rows = len(data)\n",
        "\n",
        "index = np.arange(len(columns)) + 0.3\n",
        "bar_width = 0.4\n",
        "\n",
        "# Initialize the vertical-offset for the stacked bar chart.\n",
        "y_offset = np.zeros(len(columns))\n",
        "\n",
        "# Plot bars and create text labels for the table\n",
        "cell_text = []\n",
        "for row in range(n_rows):\n",
        "    #plt.bar(index, data[row], bar_width, bottom=y_offset, color=colors[row])\n",
        "    y_offset = y_offset + data[row]\n",
        "    cell_text.append(['%1.1f' % (x / 1000.0) for x in y_offset])\n",
        "# Reverse colors and text labels to display the last value at the top.\n",
        "colors = colors[::-1]\n",
        "cell_text.reverse()\n",
        "\n",
        "# Add a table at the bottom of the axes\n",
        "the_table = plt.table(cellText=cell_text,\n",
        "                      rowLabels=rows,\n",
        "                      rowColours=colors,\n",
        "                      colLabels=columns,\n",
        "                      loc='bottom')\n",
        "\n",
        "# Adjust layout to make room for the table:\n",
        "plt.subplots_adjust(left=0.2, bottom=0.2)\n",
        "\n",
        "plt.ylabel(\"Loss in ${0}'s\".format(value_increment))\n",
        "plt.yticks(values * value_increment, ['%d' % val for val in values])\n",
        "plt.xticks([])\n",
        "plt.title('Loss by Disaster')\n",
        "\n",
        "plt.show()"
      ],
      "execution_count": null,
      "outputs": [
        {
          "output_type": "display_data",
          "data": {
            "image/png": "[encoded data removed]",
            "text/plain": [
              "<Figure size 432x288 with 1 Axes>"
            ]
          },
          "metadata": {
            "tags": [],
            "needs_background": "light"
          }
        }
      ]
    },
    {
      "cell_type": "code",
      "metadata": {
        "id": "beq6XYwR2qs2"
      },
      "source": [
        ""
      ],
      "execution_count": null,
      "outputs": []
    },
    {
      "cell_type": "code",
      "metadata": {
        "id": "rPGJepMPMYAP",
        "colab": {
          "base_uri": "https://localhost:8080/",
          "height": 284
        },
        "outputId": "c1932af5-c928-4b04-8b79-4232ddb9ed44"
      },
      "source": [
        "plt.plot(x[:][1])\n",
        "#x[0:3][0:3]\n",
        "#np.shape(x)\n",
        "#x[0][:]"
      ],
      "execution_count": null,
      "outputs": [
        {
          "output_type": "execute_result",
          "data": {
            "text/plain": [
              "[<matplotlib.lines.Line2D at 0x7f024658df50>]"
            ]
          },
          "metadata": {
            "tags": []
          },
          "execution_count": 23
        },
        {
          "output_type": "display_data",
          "data": {
            "image/png": "[encoded data removed]",
            "text/plain": [
              "<Figure size 432x288 with 1 Axes>"
            ]
          },
          "metadata": {
            "tags": [],
            "needs_background": "light"
          }
        }
      ]
    },
    {
      "cell_type": "code",
      "metadata": {
        "id": "PMzERu16QwfZ",
        "colab": {
          "base_uri": "https://localhost:8080/",
          "height": 229
        },
        "outputId": "afd3baee-4590-4b06-c621-6f733bfd835a"
      },
      "source": [
        "y = []\n",
        "for i in range(len(x[:][0])):\n",
        "  print(i)\n",
        "  y.append(np.average(x[:][i]))\n"
      ],
      "execution_count": null,
      "outputs": [
        {
          "output_type": "error",
          "ename": "TypeError",
          "evalue": "ignored",
          "traceback": [
            "\u001b[0;31m---------------------------------------------------------------------------\u001b[0m",
            "\u001b[0;31mTypeError\u001b[0m                                 Traceback (most recent call last)",
            "\u001b[0;32m<ipython-input-24-1b650a43eaff>\u001b[0m in \u001b[0;36m<module>\u001b[0;34m()\u001b[0m\n\u001b[1;32m      1\u001b[0m \u001b[0my\u001b[0m \u001b[0;34m=\u001b[0m \u001b[0;34m[\u001b[0m\u001b[0;34m]\u001b[0m\u001b[0;34m\u001b[0m\u001b[0;34m\u001b[0m\u001b[0m\n\u001b[0;32m----> 2\u001b[0;31m \u001b[0;32mfor\u001b[0m \u001b[0mi\u001b[0m \u001b[0;32min\u001b[0m \u001b[0mrange\u001b[0m\u001b[0;34m(\u001b[0m\u001b[0mlen\u001b[0m\u001b[0;34m(\u001b[0m\u001b[0mx\u001b[0m\u001b[0;34m[\u001b[0m\u001b[0;34m:\u001b[0m\u001b[0;34m]\u001b[0m\u001b[0;34m[\u001b[0m\u001b[0;36m0\u001b[0m\u001b[0;34m]\u001b[0m\u001b[0;34m)\u001b[0m\u001b[0;34m)\u001b[0m\u001b[0;34m:\u001b[0m\u001b[0;34m\u001b[0m\u001b[0;34m\u001b[0m\u001b[0m\n\u001b[0m\u001b[1;32m      3\u001b[0m   \u001b[0mprint\u001b[0m\u001b[0;34m(\u001b[0m\u001b[0mi\u001b[0m\u001b[0;34m)\u001b[0m\u001b[0;34m\u001b[0m\u001b[0;34m\u001b[0m\u001b[0m\n\u001b[1;32m      4\u001b[0m   \u001b[0my\u001b[0m\u001b[0;34m.\u001b[0m\u001b[0mappend\u001b[0m\u001b[0;34m(\u001b[0m\u001b[0mnp\u001b[0m\u001b[0;34m.\u001b[0m\u001b[0maverage\u001b[0m\u001b[0;34m(\u001b[0m\u001b[0mx\u001b[0m\u001b[0;34m[\u001b[0m\u001b[0;34m:\u001b[0m\u001b[0;34m]\u001b[0m\u001b[0;34m[\u001b[0m\u001b[0mi\u001b[0m\u001b[0;34m]\u001b[0m\u001b[0;34m)\u001b[0m\u001b[0;34m)\u001b[0m\u001b[0;34m\u001b[0m\u001b[0;34m\u001b[0m\u001b[0m\n",
            "\u001b[0;31mTypeError\u001b[0m: object of type 'numpy.int64' has no len()"
          ]
        }
      ]
    },
    {
      "cell_type": "code",
      "metadata": {
        "id": "9xEVTfWvR7_L"
      },
      "source": [
        "import copy\n",
        "combined_reward = copy.deepcopy(rewards[0])\n",
        "combined_reward = []\n",
        "for i in range(len(rewards)):\n",
        "  for p in range(len(rewards[0])):\n",
        "    print(i, \" \", p)\n",
        "    #combined_reward[i][p] = np.average(rewards[:][p])\n",
        "    combined_reward.append(np.average(rewards[i][p]))"
      ],
      "execution_count": null,
      "outputs": []
    },
    {
      "cell_type": "code",
      "metadata": {
        "id": "ZwTNrrKuXb80"
      },
      "source": [
        "import numpy as np\n",
        "#type(rewards[:])\n",
        "x = np.array(rewards[0:3])\n",
        "np.shape(x)"
      ],
      "execution_count": null,
      "outputs": []
    },
    {
      "cell_type": "code",
      "metadata": {
        "id": "ZqNG02PwhiFK"
      },
      "source": [
        "import copy\n",
        "combined_reward = copy.deepcopy(rewards[0])\n",
        "combined_reward = []\n",
        "#for i in range(len(rewards)):\n",
        "for p in range(len(rewards[0])):\n",
        "  #print(i, \" \", p)\n",
        "  print(p)\n",
        "  #combined_reward[i][p] = np.average(rewards[:][p])\n",
        "  print(rewards[0:3][p])\n",
        "  combined_reward.append(np.average(rewards[:][p]))"
      ],
      "execution_count": null,
      "outputs": []
    },
    {
      "cell_type": "code",
      "metadata": {
        "id": "MjtcMcsif7QO"
      },
      "source": [
        "#np.average(rewards[:][0])\n",
        "rewards[2][0:3]"
      ],
      "execution_count": null,
      "outputs": []
    },
    {
      "cell_type": "code",
      "metadata": {
        "id": "K17yPNzeg8pQ"
      },
      "source": [
        "plt.plot(combined_reward)"
      ],
      "execution_count": null,
      "outputs": []
    },
    {
      "cell_type": "code",
      "metadata": {
        "id": "3lECb7wHUqFb"
      },
      "source": [
        "\n",
        "\n",
        "#rolling_average = np.convolve(rewards, np.ones(100)/100)\n",
        "\n",
        "plt.plot(rewards)\n",
        "plt.plot(rolling_average, color='black')\n",
        "plt.axhline(y=195, color='r', linestyle='-') #Solved Line\n",
        "#Scale Epsilon (0.001 - 1.0) to match reward (0 - 200) range\n",
        "#eps_graph = [200*x for x in epsilons]\n",
        "#plt.plot(eps_graph, color='g', linestyle='-')\n",
        "#Plot the line where TESTING begins\n",
        "#plt.axvline(x=TRAIN_END, color='y', linestyle='-')\n",
        "#plt.xlim( (0,EPISODES) )\n",
        "#plt.ylim( (0,220) )\n",
        "plt.show()\n",
        "\n",
        "\n",
        "#envCartPole.close()"
      ],
      "execution_count": null,
      "outputs": []
    },
    {
      "cell_type": "code",
      "metadata": {
        "id": "jBYcM3AA49Um"
      },
      "source": [
        "import numpy as np\n",
        "import matplotlib.pyplot as plt\n",
        "\n",
        "counter=0\n",
        "perturb_list = []\n",
        "for i in range(70):  \n",
        "  perturb = np.random.random_sample([1])\n",
        "  y = np.random.random_sample([1])\n",
        "  #randomly select positive or negative purtubations\n",
        "  if y[0] > .5:\n",
        "    perturb[0] = perturb[0] * -1\n",
        "  perturb[0] = perturb[0] * (counter/70)\n",
        "\n",
        "  #we force value to not be > or < |.47| (need to work out the theory of best value for this)\n",
        "  if perturb[0] > .47:\n",
        "    perturb[0] = .47\n",
        "  if perturb[0] < -.47:\n",
        "    perturb[0] = -.47 \n",
        "  perturb_list.append(perturb[0])\n",
        "  #print(perturb_list[i])\n",
        "  counter+=1\n",
        "plt.plot(perturb_list)"
      ],
      "execution_count": null,
      "outputs": []
    },
    {
      "cell_type": "code",
      "metadata": {
        "id": "pGcW4ysU2seY"
      },
      "source": [
        "counter=0\n",
        "count_list = []\n",
        "self_adversary_list = []\n",
        "reward_list = []\n",
        "for i in range(70):\n",
        "  reward = counter /10\n",
        "  if counter <1: \n",
        "      self_adversary = 0 # no adversary\n",
        "  else: \n",
        "      self_adversary = 0.01#.0001\n",
        "      self_adversary = self_adversary * counter #increment adversary\n",
        "      if self_adversary >= .47 : #1: #don't become too nasty now, ya hear?\n",
        "        self_adversary = .47 #1\n",
        "      self_adversary_list.append(self_adversary)\n",
        "  counter+=1\n",
        "  reward = reward - ((reward * self_adversary)*2)\n",
        "  reward_list.append(reward)\n",
        "  count_list.append(counter/30)\n",
        "\n",
        "import matplotlib.pyplot as plt\n",
        "plt.plot(self_adversary_list, label='Surreal Adversary')\n",
        "plt.plot(perturb_list, label='Perturb Noise')\n",
        "plt.plot(count_list)\n",
        "plt.plot(reward_list)\n",
        "plt.legend()\n",
        "plt.xlabel('Episode')\n",
        "plt.ylabel('Reward Alteration ')"
      ],
      "execution_count": null,
      "outputs": []
    },
    {
      "cell_type": "code",
      "metadata": {
        "id": "OyYgAmwufURt"
      },
      "source": [
        "counter=0\n",
        "count_list = []\n",
        "self_destroyer_list = []\n",
        "reward_list = []\n",
        "for i in range(300):\n",
        "  reward = counter /10\n",
        "  if counter <1: \n",
        "      self_adversary = 0 # no adversary\n",
        "  else: \n",
        "      self_adversary = 0.01#.0001\n",
        "      self_adversary = self_adversary * counter #increment adversary\n",
        "      if self_adversary >= .33 : #1: #full nasty man\n",
        "        self_adversary = .33 #1\n",
        "      self_destroyer_list.append(self_adversary)\n",
        "  counter+=1\n",
        "  reward = reward - ((reward * self_adversary)*2)\n",
        "  reward_list.append(reward)\n",
        "  count_list.append(counter/30)\n",
        "\n",
        "import matplotlib.pyplot as plt\n",
        "plt.plot(self_adversary_list, label='Surreal Adversary')\n",
        "plt.plot(self_destroyer_list, label='Surreal Destroyer')\n",
        "plt.plot(perturb_list, label='Perturb Noise')\n",
        "plt.plot(count_list)\n",
        "plt.plot(reward_list)\n",
        "plt.legend()\n",
        "plt.xlabel('Episode')\n",
        "plt.ylabel('Reward Alteration ')"
      ],
      "execution_count": null,
      "outputs": []
    },
    {
      "cell_type": "code",
      "metadata": {
        "id": "uqePHr-AA1od"
      },
      "source": [
        "#count = 0\n",
        "reward = 1\n",
        "for i in range(50):\n",
        "  #reward = reward + (reward * count) \n",
        "  reward+=1   \n",
        "  reward = reward - ((reward * self_adversary)*2)\n",
        "  \n",
        "  print(self_adversary, reward)"
      ],
      "execution_count": null,
      "outputs": []
    }
  ]
}